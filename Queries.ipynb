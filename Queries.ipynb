{
 "cells": [
  {
   "cell_type": "code",
   "execution_count": 2,
   "metadata": {},
   "outputs": [],
   "source": [
    "from scipy.stats import norm\n",
    "import sqlalchemy as sql\n",
    "import pandas as pd\n",
    "import numpy as np\n",
    "import json\n",
    "\n",
    "with open(\"config.json\", \"r\") as file:\n",
    "    CONFIG = json.loads(file.read())\n",
    "\n",
    "greek_cols = [\n",
    "\t'delta',\n",
    "\t'gamma',\n",
    "\t'theta',\n",
    "\t'vega',\n",
    "\t'rho',\n",
    "\t'vanna',\n",
    "\t'vomma',\n",
    "\t'charm',\n",
    "\t'veta',\n",
    "\t'speed',\n",
    "\t'zomma',\n",
    "\t'color',\n",
    "\t'ultima'\n",
    "]"
   ]
  },
  {
   "cell_type": "markdown",
   "metadata": {},
   "source": [
    "### Engine"
   ]
  },
  {
   "cell_type": "code",
   "execution_count": 5,
   "metadata": {},
   "outputs": [],
   "source": [
    "engine = sql.create_engine(CONFIG['db_address'].replace(\"test\", \"finance\"),\n",
    "                           pool_size=3,\n",
    "                           max_overflow=0,\n",
    "                           pool_recycle=299,\n",
    "                           pool_pre_ping=True)"
   ]
  },
  {
   "cell_type": "markdown",
   "metadata": {},
   "source": [
    "### TSLA Options Data"
   ]
  },
  {
   "cell_type": "code",
   "execution_count": 13,
   "metadata": {},
   "outputs": [],
   "source": [
    "query = \"\"\"\n",
    "    SELECT\n",
    "        options.*,\n",
    "        trm.rate,\n",
    "        ohlc.adjclose_price AS stock_price,\n",
    "        ohlc.dividend_yield AS dividend_yield\n",
    "    FROM\n",
    "        options\n",
    "    INNER JOIN\n",
    "        treasuryratemap AS trm\n",
    "        USING(date_current, days_to_expiry)\n",
    "        INNER JOIN\n",
    "            ohlc\n",
    "            USING(date_current, ticker)\n",
    "    WHERE\n",
    "        ticker = \"IWM\"\n",
    "    AND date_current = \"2020-11-25\"\n",
    "\"\"\"\n",
    "options = pd.read_sql(query, engine)"
   ]
  },
  {
   "cell_type": "code",
   "execution_count": 14,
   "metadata": {},
   "outputs": [],
   "source": [
    "options.to_csv(\"/home/zquantz/Documents/Quant/optiqs/tmp/iwm.csv\", index=False)"
   ]
  },
  {
   "cell_type": "markdown",
   "metadata": {},
   "source": [
    "### Calculate Greeks"
   ]
  },
  {
   "cell_type": "code",
   "execution_count": 7,
   "metadata": {},
   "outputs": [],
   "source": [
    "def calculate_greeks(options):\n",
    "\n",
    "\tif len(options) == 0:\n",
    "\t\treturn options\n",
    "\n",
    "\to = options.copy()\n",
    "\tm = o.option_type.map({\"C\" : 1, \"P\" : -1}).values\n",
    "\n",
    "\ttau = o.days_to_expiry.values / 365\n",
    "\trtau = np.sqrt(tau)\n",
    "\tiv = o.implied_volatility.values / 100\n",
    "\tS = o.stock_price.values\n",
    "\tK = o.strike_price.values\n",
    "\tq = o.dividend_yield.values / 100\n",
    "\tr = o.rate.values / 100\n",
    "\n",
    "\t###################################################################################################\n",
    "\n",
    "\teqt = np.exp(-q * tau)\n",
    "\tkert = K * np.exp(-r * tau)\n",
    "\n",
    "\td1 = np.log(S / K)\n",
    "\td1 += (r - q + 0.5 * (iv ** 2)) * tau\n",
    "\td1 /= iv * rtau\n",
    "\td2 = d1 - iv * rtau\n",
    "\n",
    "\tnpd1 = norm.pdf(d1)\n",
    "\tncd1 = norm.cdf(m * d1)\n",
    "\tncd2 = norm.cdf(m * d2)\n",
    "\n",
    "\t###################################################################################################\n",
    "\n",
    "\tdelta = m * eqt * ncd1\n",
    "\n",
    "\tgamma = np.exp(q - r) * npd1\n",
    "\tgamma /= (S * iv * rtau)\n",
    "\n",
    "\tvega = S * eqt * npd1 * rtau\t\n",
    "\tvega /= 100\n",
    "\n",
    "\trho = m * tau * kert * ncd2\n",
    "\trho /= 100\n",
    "\n",
    "\ttheta = (S * norm.pdf(m * d1) * iv)\n",
    "\ttheta *= -eqt / (2 * rtau)\n",
    "\ttheta -= m * r * kert * ncd2\n",
    "\ttheta += m * q * S * eqt * ncd1\n",
    "\ttheta /= 365\n",
    "\n",
    "\t###################################################################################################\n",
    "\n",
    "\tvanna = (vega / S)\n",
    "\tvanna *= (1 - d1 / (iv * rtau))\n",
    "\n",
    "\tvomma = (vega / iv) * (d1 * d2)\n",
    "\n",
    "\tcharm = 2 * (r - q) * tau - d2 * iv * rtau\n",
    "\tcharm /= 2 * tau * iv * rtau\n",
    "\tcharm *= eqt * npd1\n",
    "\tcharm = m * q * eqt * ncd1 - charm\n",
    "\tcharm /= 365\n",
    "\n",
    "\tveta = q.copy()\n",
    "\tveta += ((r - q) * d1) / (iv * rtau)\n",
    "\tveta -= (1 + d1 * d2) / (2 * tau)\n",
    "\tveta *= -S * eqt * npd1 * rtau\n",
    "\tveta /= 365 * 100\n",
    "\n",
    "\tspeed = 1\n",
    "\tspeed += d1 / (iv * rtau)\n",
    "\tspeed *= -gamma / S\n",
    "\n",
    "\tzomma = (d1 * d2 - 1) / iv\n",
    "\tzomma *= gamma\n",
    "\n",
    "\tcolor = 2 * (r - q) * tau\n",
    "\tcolor -= d2 * iv * rtau\n",
    "\tcolor *= d1 / (iv * rtau)\n",
    "\tcolor += 2 * q * tau + 1\n",
    "\tcolor *= -eqt * npd1 / (2 * S * tau * iv * rtau)\n",
    "\tcolor /= 365\n",
    "\n",
    "\tultima = d1 * d2 * (1 - d1 * d2) + d1 * d1 + d2 * d2\n",
    "\tultima *= -vega / (iv * iv)\n",
    "\n",
    "\t###################################################################################################\n",
    "\n",
    "\toptions['delta'] = delta\n",
    "\toptions['gamma'] = gamma\n",
    "\toptions['theta'] = theta\n",
    "\toptions['vega'] = vega\n",
    "\toptions['rho'] = rho\n",
    "\n",
    "\toptions['vanna'] = vanna\n",
    "\toptions['vomma'] = vomma\n",
    "\toptions['charm'] = charm\n",
    "\toptions['veta'] = veta\n",
    "\toptions['speed'] = speed\n",
    "\toptions['zomma'] = zomma\n",
    "\toptions['color'] = color\n",
    "\toptions['ultima'] = ultima\n",
    "\n",
    "\t###################################################################################################\n",
    "\n",
    "\toptions.loc[:, greek_cols] = options[greek_cols].replace([-np.inf, np.inf], np.nan)\n",
    "\toptions.loc[:, greek_cols] = options[greek_cols].round(6).fillna(0)\n",
    "\toptions = options.sort_values([\"date_current\", \"option_type\"], ascending=True)\n",
    "\n",
    "\treturn options"
   ]
  },
  {
   "cell_type": "code",
   "execution_count": 8,
   "metadata": {},
   "outputs": [
    {
     "name": "stderr",
     "output_type": "stream",
     "text": [
      "/home/zquantz/anaconda3/lib/python3.7/site-packages/ipykernel_launcher.py:24: RuntimeWarning: divide by zero encountered in true_divide\n",
      "/home/zquantz/anaconda3/lib/python3.7/site-packages/ipykernel_launcher.py:36: RuntimeWarning: invalid value encountered in true_divide\n",
      "/home/zquantz/anaconda3/lib/python3.7/site-packages/ipykernel_launcher.py:45: RuntimeWarning: divide by zero encountered in true_divide\n",
      "/home/zquantz/anaconda3/lib/python3.7/site-packages/ipykernel_launcher.py:45: RuntimeWarning: invalid value encountered in multiply\n",
      "/home/zquantz/anaconda3/lib/python3.7/site-packages/ipykernel_launcher.py:53: RuntimeWarning: invalid value encountered in multiply\n",
      "/home/zquantz/anaconda3/lib/python3.7/site-packages/ipykernel_launcher.py:55: RuntimeWarning: invalid value encountered in true_divide\n",
      "/home/zquantz/anaconda3/lib/python3.7/site-packages/ipykernel_launcher.py:55: RuntimeWarning: invalid value encountered in multiply\n",
      "/home/zquantz/anaconda3/lib/python3.7/site-packages/ipykernel_launcher.py:57: RuntimeWarning: invalid value encountered in multiply\n",
      "/home/zquantz/anaconda3/lib/python3.7/site-packages/ipykernel_launcher.py:64: RuntimeWarning: invalid value encountered in multiply\n",
      "/home/zquantz/anaconda3/lib/python3.7/site-packages/ipykernel_launcher.py:65: RuntimeWarning: invalid value encountered in subtract\n",
      "/home/zquantz/anaconda3/lib/python3.7/site-packages/ipykernel_launcher.py:66: RuntimeWarning: invalid value encountered in multiply\n",
      "/home/zquantz/anaconda3/lib/python3.7/site-packages/ipykernel_launcher.py:77: RuntimeWarning: invalid value encountered in multiply\n",
      "/home/zquantz/anaconda3/lib/python3.7/site-packages/ipykernel_launcher.py:80: RuntimeWarning: invalid value encountered in true_divide\n",
      "/home/zquantz/anaconda3/lib/python3.7/site-packages/ipykernel_launcher.py:83: RuntimeWarning: invalid value encountered in add\n",
      "/home/zquantz/anaconda3/lib/python3.7/site-packages/ipykernel_launcher.py:84: RuntimeWarning: invalid value encountered in true_divide\n"
     ]
    }
   ],
   "source": [
    "options = calculate_greeks(options)"
   ]
  },
  {
   "cell_type": "code",
   "execution_count": 11,
   "metadata": {},
   "outputs": [],
   "source": [
    "options.to_csv(\"data/tsla_options.csv\", index=False)"
   ]
  },
  {
   "cell_type": "code",
   "execution_count": null,
   "metadata": {},
   "outputs": [],
   "source": []
  }
 ],
 "metadata": {
  "kernelspec": {
   "display_name": "Python 3",
   "language": "python",
   "name": "python3"
  },
  "language_info": {
   "codemirror_mode": {
    "name": "ipython",
    "version": 3
   },
   "file_extension": ".py",
   "mimetype": "text/x-python",
   "name": "python",
   "nbconvert_exporter": "python",
   "pygments_lexer": "ipython3",
   "version": "3.7.6"
  }
 },
 "nbformat": 4,
 "nbformat_minor": 4
}
