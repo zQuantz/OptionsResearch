{
 "cells": [
  {
   "cell_type": "code",
   "execution_count": 4,
   "metadata": {},
   "outputs": [],
   "source": [
    "import matplotlib.pyplot as plt\n",
    "import seaborn as sns\n",
    "\n",
    "import pandas as pd\n",
    "import numpy as np\n",
    "import sys, os"
   ]
  },
  {
   "cell_type": "markdown",
   "metadata": {},
   "source": [
    "### Data"
   ]
  },
  {
   "cell_type": "code",
   "execution_count": 5,
   "metadata": {},
   "outputs": [],
   "source": [
    "data = pd.read_csv(\"data/filtered_tsla_options_w_greeks.csv\")"
   ]
  },
  {
   "cell_type": "markdown",
   "metadata": {},
   "source": [
    "### Functions "
   ]
  },
  {
   "cell_type": "code",
   "execution_count": 6,
   "metadata": {},
   "outputs": [],
   "source": [
    "def ordered_pairs(l1, l2, unique=True):\n",
    "    \n",
    "    l1, l2 = list(l1), list(l2)\n",
    "    \n",
    "    pairs = []\n",
    "    for i in range(len(l1)):\n",
    "        \n",
    "        for e in l2[i:]:\n",
    "            \n",
    "            if unique and l1[i] == e:\n",
    "                continue\n",
    "            \n",
    "            pairs.append([l1[i], e])\n",
    "    \n",
    "    return pairs"
   ]
  },
  {
   "cell_type": "markdown",
   "metadata": {},
   "source": [
    "### Same Expiration Exposure"
   ]
  },
  {
   "cell_type": "code",
   "execution_count": 4,
   "metadata": {},
   "outputs": [
    {
     "name": "stderr",
     "output_type": "stream",
     "text": [
      "/home/zquantz/anaconda3/lib/python3.7/site-packages/ipykernel_launcher.py:1: UserWarning: Boolean Series key will be reindexed to match DataFrame index.\n",
      "  \"\"\"Entry point for launching an IPython kernel.\n"
     ]
    }
   ],
   "source": [
    "exp = data[data.date_current == \"2020-07-13\"][data.expiration_date == \"2020-08-21\"]"
   ]
  },
  {
   "cell_type": "code",
   "execution_count": 5,
   "metadata": {},
   "outputs": [
    {
     "name": "stderr",
     "output_type": "stream",
     "text": [
      "/home/zquantz/anaconda3/lib/python3.7/site-packages/ipykernel_launcher.py:4: UserWarning: Boolean Series key will be reindexed to match DataFrame index.\n",
      "  after removing the cwd from sys.path.\n",
      "/home/zquantz/anaconda3/lib/python3.7/site-packages/ipykernel_launcher.py:5: UserWarning: Boolean Series key will be reindexed to match DataFrame index.\n",
      "  \"\"\"\n",
      "/home/zquantz/anaconda3/lib/python3.7/site-packages/ipykernel_launcher.py:7: UserWarning: Boolean Series key will be reindexed to match DataFrame index.\n",
      "  import sys\n",
      "/home/zquantz/anaconda3/lib/python3.7/site-packages/ipykernel_launcher.py:8: UserWarning: Boolean Series key will be reindexed to match DataFrame index.\n",
      "  \n"
     ]
    }
   ],
   "source": [
    "calls = exp[exp.option_type == \"C\"]\n",
    "puts = exp[exp.option_type == \"P\"]\n",
    "\n",
    "itmc = calls[exp.stock_price - exp.strike_price > 0]\n",
    "otmc = calls[exp.stock_price - exp.strike_price <= 0]\n",
    "\n",
    "itmp = puts[exp.strike_price - exp.stock_price > 0]\n",
    "otmp = puts[exp.strike_price - exp.stock_price <= 0]"
   ]
  },
  {
   "cell_type": "code",
   "execution_count": 6,
   "metadata": {},
   "outputs": [],
   "source": [
    "directions = [1, -1, -1, 1]"
   ]
  },
  {
   "cell_type": "markdown",
   "metadata": {},
   "source": [
    "### Call Only"
   ]
  },
  {
   "cell_type": "code",
   "execution_count": 7,
   "metadata": {},
   "outputs": [],
   "source": [
    "itmpairs = ordered_pairs(itmc.strike_price, itmc.strike_price, True)\n",
    "otmpairs = ordered_pairs(otmc.strike_price, otmc.strike_price, True)\n",
    "\n",
    "condor_strikes = ordered_pairs(itmpairs, otmpairs, True)\n",
    "condor_strikes = [e[0] + e[1] for e in condor_strikes]\n",
    "condor_strikes = [e for item in condor_strikes for e in item]\n",
    "\n",
    "strikes = pd.DataFrame(condor_strikes, columns = ['strike_price'])\n",
    "positionsc = strikes.merge(calls, on='strike_price', how='left')\n",
    "positionsc['directions'] = directions * int(len(condor_strikes) / 4)\n",
    "\n",
    "positionsc['NetDelta'] = positionsc.delta * positionsc.directions\n",
    "positionsc['NetGamma'] = positionsc.gamma * positionsc.directions\n",
    "positionsc['NetVega'] = positionsc.vega * positionsc.directions\n",
    "positionsc['NetTheta'] = positionsc.theta * positionsc.directions\n",
    "positionsc['NetVomma'] = positionsc.vomma * positionsc.directions\n",
    "positionsc['NetUltima'] = positionsc.ultima * positionsc.directions\n",
    "\n",
    "deltasc = positionsc.NetDelta.values.reshape(-1, 4).sum(axis=1)\n",
    "gammasc = positionsc.NetGamma.values.reshape(-1, 4).sum(axis=1)\n",
    "vegasc = positionsc.NetVega.values.reshape(-1, 4).sum(axis=1)\n",
    "thetasc = positionsc.NetTheta.values.reshape(-1, 4).sum(axis=1)\n",
    "vommasc = positionsc.NetVomma.values.reshape(-1, 4).sum(axis=1)\n",
    "ultimasc = positionsc.NetUltima.values.reshape(-1, 4).sum(axis=1)"
   ]
  },
  {
   "cell_type": "markdown",
   "metadata": {},
   "source": [
    "### Put Only"
   ]
  },
  {
   "cell_type": "code",
   "execution_count": 12,
   "metadata": {},
   "outputs": [],
   "source": [
    "itmpairs = ordered_pairs(itmp.strike_price, itmp.strike_price, True)\n",
    "otmpairs = ordered_pairs(otmp.strike_price, otmp.strike_price, True)\n",
    "\n",
    "condor_strikes = ordered_pairs(otmpairs, itmpairs, True)\n",
    "condor_strikes = [e[0] + e[1] for e in condor_strikes]\n",
    "condor_strikes = [e for item in condor_strikes for e in item]\n",
    "\n",
    "strikes = pd.DataFrame(condor_strikes, columns = ['strike_price'])\n",
    "positionsp = strikes.merge(puts, on='strike_price', how='left')\n",
    "positionsp['directions'] = directions * int(len(condor_strikes) / 4)\n",
    "\n",
    "positionsp['NetDelta'] = positionsp.delta * positionsp.directions\n",
    "positionsp['NetGamma'] = positionsp.gamma * positionsp.directions\n",
    "positionsp['NetVega'] = positionsp.vega * positionsp.directions\n",
    "positionsp['NetTheta'] = positionsp.theta * positionsp.directions\n",
    "positionsp['NetVomma'] = positionsp.vomma * positionsp.directions\n",
    "positionsp['NetUltima'] = positionsp.ultima * positionsp.directions\n",
    "\n",
    "deltasp = positionsp.NetDelta.values.reshape(-1, 4).sum(axis=1)\n",
    "gammasp = positionsp.NetGamma.values.reshape(-1, 4).sum(axis=1)\n",
    "vegasp = positionsp.NetVega.values.reshape(-1, 4).sum(axis=1)\n",
    "thetasp = positionsp.NetTheta.values.reshape(-1, 4).sum(axis=1)\n",
    "vommasp = positionsp.NetVomma.values.reshape(-1, 4).sum(axis=1)\n",
    "ultimasp = positionsp.NetUltima.values.reshape(-1, 4).sum(axis=1)"
   ]
  },
  {
   "cell_type": "markdown",
   "metadata": {},
   "source": [
    "### ITMs"
   ]
  },
  {
   "cell_type": "code",
   "execution_count": 3,
   "metadata": {},
   "outputs": [
    {
     "ename": "NameError",
     "evalue": "name 'ordered_pairs' is not defined",
     "output_type": "error",
     "traceback": [
      "\u001b[0;31m---------------------------------------------------------------------------\u001b[0m",
      "\u001b[0;31mNameError\u001b[0m                                 Traceback (most recent call last)",
      "\u001b[0;32m<ipython-input-3-820c7dea9a25>\u001b[0m in \u001b[0;36m<module>\u001b[0;34m\u001b[0m\n\u001b[0;32m----> 1\u001b[0;31m \u001b[0mitmcalls\u001b[0m \u001b[0;34m=\u001b[0m \u001b[0mordered_pairs\u001b[0m\u001b[0;34m(\u001b[0m\u001b[0mitmc\u001b[0m\u001b[0;34m.\u001b[0m\u001b[0mstrike_price\u001b[0m\u001b[0;34m,\u001b[0m \u001b[0mitmc\u001b[0m\u001b[0;34m.\u001b[0m\u001b[0mstrike_price\u001b[0m\u001b[0;34m,\u001b[0m \u001b[0;32mTrue\u001b[0m\u001b[0;34m)\u001b[0m\u001b[0;34m\u001b[0m\u001b[0;34m\u001b[0m\u001b[0m\n\u001b[0m\u001b[1;32m      2\u001b[0m \u001b[0mitmputs\u001b[0m \u001b[0;34m=\u001b[0m \u001b[0mordered_pairs\u001b[0m\u001b[0;34m(\u001b[0m\u001b[0mitmp\u001b[0m\u001b[0;34m.\u001b[0m\u001b[0mstrike_price\u001b[0m\u001b[0;34m,\u001b[0m \u001b[0mitmp\u001b[0m\u001b[0;34m.\u001b[0m\u001b[0mstrike_price\u001b[0m\u001b[0;34m,\u001b[0m \u001b[0;32mTrue\u001b[0m\u001b[0;34m)\u001b[0m\u001b[0;34m\u001b[0m\u001b[0;34m\u001b[0m\u001b[0m\n\u001b[1;32m      3\u001b[0m \u001b[0;34m\u001b[0m\u001b[0m\n\u001b[1;32m      4\u001b[0m \u001b[0mcondor_strikes\u001b[0m \u001b[0;34m=\u001b[0m \u001b[0mordered_pairs\u001b[0m\u001b[0;34m(\u001b[0m\u001b[0mitmcalls\u001b[0m\u001b[0;34m,\u001b[0m \u001b[0mitmputs\u001b[0m\u001b[0;34m,\u001b[0m \u001b[0;32mTrue\u001b[0m\u001b[0;34m)\u001b[0m\u001b[0;34m\u001b[0m\u001b[0;34m\u001b[0m\u001b[0m\n\u001b[1;32m      5\u001b[0m \u001b[0mcondor_strikes\u001b[0m \u001b[0;34m=\u001b[0m \u001b[0;34m[\u001b[0m\u001b[0me\u001b[0m\u001b[0;34m[\u001b[0m\u001b[0;36m0\u001b[0m\u001b[0;34m]\u001b[0m \u001b[0;34m+\u001b[0m \u001b[0me\u001b[0m\u001b[0;34m[\u001b[0m\u001b[0;36m1\u001b[0m\u001b[0;34m]\u001b[0m \u001b[0;32mfor\u001b[0m \u001b[0me\u001b[0m \u001b[0;32min\u001b[0m \u001b[0mcondor_strikes\u001b[0m\u001b[0;34m]\u001b[0m\u001b[0;34m\u001b[0m\u001b[0;34m\u001b[0m\u001b[0m\n",
      "\u001b[0;31mNameError\u001b[0m: name 'ordered_pairs' is not defined"
     ]
    }
   ],
   "source": [
    "itmcalls = ordered_pairs(itmc.strike_price, itmc.strike_price, True)\n",
    "itmputs = ordered_pairs(itmp.strike_price, itmp.strike_price, True)\n",
    "\n",
    "condor_strikes = ordered_pairs(itmcalls, itmputs, True)\n",
    "condor_strikes = [e[0] + e[1] for e in condor_strikes]\n",
    "condor_strikes = [e for item in condor_strikes for e in item]\n",
    "\n",
    "strikes = pd.DataFrame(condor_strikes, columns = ['strike_price'])\n",
    "strikes['option_type'] = ['C', 'C', 'P', 'P'] * int(len(condor_strikes) / 4)\n",
    "\n",
    "positionsitm = strikes.merge(exp, on=['strike_price', 'option_type'], how='left')\n",
    "positionsitm['directions'] = directions * int(len(condor_strikes) / 4)\n",
    "\n",
    "positionsitm['NetDelta'] = positionsitm.delta * positionsitm.directions\n",
    "positionsitm['NetGamma'] = positionsitm.gamma * positionsitm.directions\n",
    "positionsitm['NetVega'] = positionsitm.vega * positionsitm.directions\n",
    "positionsitm['NetTheta'] = positionsitm.theta * positionsitm.directions\n",
    "positionsitm['NetVomma'] = positionsitm.vomma * positionsitm.directions\n",
    "positionsitm['NetUltima'] = positionsitm.ultima * positionsitm.directions\n",
    "\n",
    "deltasitm = positionsitm.NetDelta.values.reshape(-1, 4).sum(axis=1)\n",
    "gammasitm = positionsitm.NetGamma.values.reshape(-1, 4).sum(axis=1)\n",
    "vegasitm = positionsitm.NetVega.values.reshape(-1, 4).sum(axis=1)\n",
    "thetasitm = positionsitm.NetTheta.values.reshape(-1, 4).sum(axis=1)\n",
    "vommasitm = positionsitm.NetVomma.values.reshape(-1, 4).sum(axis=1)\n",
    "ultimasitm = positionsitm.NetUltima.values.reshape(-1, 4).sum(axis=1)"
   ]
  },
  {
   "cell_type": "markdown",
   "metadata": {},
   "source": [
    "### OTMs"
   ]
  },
  {
   "cell_type": "code",
   "execution_count": 31,
   "metadata": {},
   "outputs": [],
   "source": [
    "otmcalls = ordered_pairs(otmc.strike_price, otmc.strike_price, True)\n",
    "otmputs = ordered_pairs(otmp.strike_price, otmp.strike_price, True)\n",
    "\n",
    "condor_strikes = ordered_pairs(otmputs, otmcalls, True)\n",
    "condor_strikes = [e[0] + e[1] for e in condor_strikes]\n",
    "condor_strikes = [e for item in condor_strikes for e in item]\n",
    "\n",
    "strikes = pd.DataFrame(condor_strikes, columns = ['strike_price'])\n",
    "strikes['option_type'] = ['P', 'P', 'C', 'C'] * int(len(condor_strikes) / 4)\n",
    "\n",
    "positionsotm = strikes.merge(exp, on=['strike_price', 'option_type'], how='left')\n",
    "positionsotm['directions'] = directions * int(len(condor_strikes) / 4)\n",
    "\n",
    "positionsotm['NetDelta'] = positionsotm.delta * positionsotm.directions\n",
    "positionsotm['NetGamma'] = positionsotm.gamma * positionsotm.directions\n",
    "positionsotm['NetVega'] = positionsotm.vega * positionsotm.directions\n",
    "positionsotm['NetTheta'] = positionsotm.theta * positionsotm.directions\n",
    "positionsotm['NetVomma'] = positionsotm.vomma * positionsotm.directions\n",
    "positionsotm['NetUltima'] = positionsotm.ultima * positionsotm.directions\n",
    "\n",
    "deltasotm = positionsotm.NetDelta.values.reshape(-1, 4).sum(axis=1)\n",
    "gammasotm = positionsotm.NetGamma.values.reshape(-1, 4).sum(axis=1)\n",
    "vegasotm = positionsotm.NetVega.values.reshape(-1, 4).sum(axis=1)\n",
    "thetasotm = positionsotm.NetTheta.values.reshape(-1, 4).sum(axis=1)\n",
    "vommasotm = positionsotm.NetVomma.values.reshape(-1, 4).sum(axis=1)\n",
    "ultimasotm = positionsotm.NetUltima.values.reshape(-1, 4).sum(axis=1)"
   ]
  },
  {
   "cell_type": "markdown",
   "metadata": {},
   "source": [
    "### Full Scope"
   ]
  },
  {
   "cell_type": "code",
   "execution_count": 60,
   "metadata": {},
   "outputs": [
    {
     "name": "stdout",
     "output_type": "stream",
     "text": [
      "2020-08-21\n"
     ]
    },
    {
     "name": "stderr",
     "output_type": "stream",
     "text": [
      "/home/zquantz/anaconda3/lib/python3.7/site-packages/ipykernel_launcher.py:14: UserWarning: Boolean Series key will be reindexed to match DataFrame index.\n",
      "  \n",
      "/home/zquantz/anaconda3/lib/python3.7/site-packages/ipykernel_launcher.py:15: UserWarning: Boolean Series key will be reindexed to match DataFrame index.\n",
      "  from ipykernel import kernelapp as app\n",
      "/home/zquantz/anaconda3/lib/python3.7/site-packages/ipykernel_launcher.py:17: UserWarning: Boolean Series key will be reindexed to match DataFrame index.\n",
      "/home/zquantz/anaconda3/lib/python3.7/site-packages/ipykernel_launcher.py:18: UserWarning: Boolean Series key will be reindexed to match DataFrame index.\n"
     ]
    },
    {
     "name": "stdout",
     "output_type": "stream",
     "text": [
      "2020-09-18\n",
      "2020-10-16\n",
      "2020-11-20\n",
      "2020-12-18\n",
      "2021-01-15\n",
      "2021-03-19\n",
      "2021-06-18\n",
      "2021-09-17\n",
      "2022-01-21\n",
      "2022-03-18\n",
      "2022-06-17\n"
     ]
    }
   ],
   "source": [
    "stats = {}\n",
    "df = data[data.date_current == '2020-07-13']\n",
    "directions = [1, -1, -1, 1]\n",
    "\n",
    "for expiration in df.expiration_date.unique():\n",
    "    \n",
    "    print(expiration)\n",
    "    \n",
    "    exp = df[df.expiration_date == expiration].reset_index(drop=True)\n",
    "\n",
    "    calls = exp[exp.option_type == \"C\"]\n",
    "    puts = exp[exp.option_type == \"P\"]\n",
    "\n",
    "    itmc = calls[exp.stock_price - exp.strike_price > 0]\n",
    "    otmc = calls[exp.stock_price - exp.strike_price <= 0]\n",
    "\n",
    "    itmp = puts[exp.strike_price - exp.stock_price > 0]\n",
    "    otmp = puts[exp.strike_price - exp.stock_price <= 0]\n",
    "    \n",
    "    ################################################################################\n",
    "    \n",
    "    itmpairs = ordered_pairs(itmc.strike_price, itmc.strike_price, True)\n",
    "    otmpairs = ordered_pairs(otmc.strike_price, otmc.strike_price, True)\n",
    "\n",
    "    condor_strikes = ordered_pairs(itmpairs, otmpairs, True)\n",
    "    condor_strikes = [e[0] + e[1] for e in condor_strikes]\n",
    "    condor_strikes = [e for item in condor_strikes for e in item]\n",
    "\n",
    "    strikes = pd.DataFrame(condor_strikes, columns = ['strike_price'])\n",
    "    positionsc = strikes.merge(calls, on='strike_price', how='left')\n",
    "    positionsc['directions'] = directions * int(len(condor_strikes) / 4)\n",
    "\n",
    "    positionsc['NetDelta'] = positionsc.delta * positionsc.directions\n",
    "    positionsc['NetGamma'] = positionsc.gamma * positionsc.directions\n",
    "    positionsc['NetVega'] = positionsc.vega * positionsc.directions\n",
    "    positionsc['NetTheta'] = positionsc.theta * positionsc.directions\n",
    "    positionsc['NetVomma'] = positionsc.vomma * positionsc.directions\n",
    "    positionsc['NetUltima'] = positionsc.ultima * positionsc.directions\n",
    "\n",
    "    deltasc = positionsc.NetDelta.values.reshape(-1, 4).sum(axis=1)\n",
    "    gammasc = positionsc.NetGamma.values.reshape(-1, 4).sum(axis=1)\n",
    "    vegasc = positionsc.NetVega.values.reshape(-1, 4).sum(axis=1)\n",
    "    thetasc = positionsc.NetTheta.values.reshape(-1, 4).sum(axis=1)\n",
    "    vommasc = positionsc.NetVomma.values.reshape(-1, 4).sum(axis=1)\n",
    "    ultimasc = positionsc.NetUltima.values.reshape(-1, 4).sum(axis=1)\n",
    "    \n",
    "    ################################################################################\n",
    "\n",
    "    itmpairs = ordered_pairs(itmp.strike_price, itmp.strike_price, True)\n",
    "    otmpairs = ordered_pairs(otmp.strike_price, otmp.strike_price, True)\n",
    "\n",
    "    condor_strikes = ordered_pairs(otmpairs, itmpairs, True)\n",
    "    condor_strikes = [e[0] + e[1] for e in condor_strikes]\n",
    "    condor_strikes = [e for item in condor_strikes for e in item]\n",
    "\n",
    "    strikes = pd.DataFrame(condor_strikes, columns = ['strike_price'])\n",
    "    positionsp = strikes.merge(puts, on='strike_price', how='left')\n",
    "    positionsp['directions'] = directions * int(len(condor_strikes) / 4)\n",
    "\n",
    "    positionsp['NetDelta'] = positionsp.delta * positionsp.directions\n",
    "    positionsp['NetGamma'] = positionsp.gamma * positionsp.directions\n",
    "    positionsp['NetVega'] = positionsp.vega * positionsp.directions\n",
    "    positionsp['NetTheta'] = positionsp.theta * positionsp.directions\n",
    "    positionsp['NetVomma'] = positionsp.vomma * positionsp.directions\n",
    "    positionsp['NetUltima'] = positionsp.ultima * positionsp.directions\n",
    "\n",
    "    deltasp = positionsp.NetDelta.values.reshape(-1, 4).sum(axis=1)\n",
    "    gammasp = positionsp.NetGamma.values.reshape(-1, 4).sum(axis=1)\n",
    "    vegasp = positionsp.NetVega.values.reshape(-1, 4).sum(axis=1)\n",
    "    thetasp = positionsp.NetTheta.values.reshape(-1, 4).sum(axis=1)\n",
    "    vommasp = positionsp.NetVomma.values.reshape(-1, 4).sum(axis=1)\n",
    "    ultimasp = positionsp.NetUltima.values.reshape(-1, 4).sum(axis=1)\n",
    "    \n",
    "    ################################################################################\n",
    "    \n",
    "    itmcalls = ordered_pairs(itmc.strike_price, itmc.strike_price, True)\n",
    "    itmputs = ordered_pairs(itmp.strike_price, itmp.strike_price, True)\n",
    "\n",
    "    condor_strikes = ordered_pairs(itmcalls, itmputs, True)\n",
    "    condor_strikes = [e[0] + e[1] for e in condor_strikes]\n",
    "    condor_strikes = [e for item in condor_strikes for e in item]\n",
    "\n",
    "    strikes = pd.DataFrame(condor_strikes, columns = ['strike_price'])\n",
    "    strikes['option_type'] = ['C', 'C', 'P', 'P'] * int(len(condor_strikes) / 4)\n",
    "\n",
    "    positionsitm = strikes.merge(exp, on=['strike_price', 'option_type'], how='left')\n",
    "    positionsitm['directions'] = directions * int(len(condor_strikes) / 4)\n",
    "\n",
    "    positionsitm['NetDelta'] = positionsitm.delta * positionsitm.directions\n",
    "    positionsitm['NetGamma'] = positionsitm.gamma * positionsitm.directions\n",
    "    positionsitm['NetVega'] = positionsitm.vega * positionsitm.directions\n",
    "    positionsitm['NetTheta'] = positionsitm.theta * positionsitm.directions\n",
    "    positionsitm['NetVomma'] = positionsitm.vomma * positionsitm.directions\n",
    "    positionsitm['NetUltima'] = positionsitm.ultima * positionsitm.directions\n",
    "\n",
    "    deltasitm = positionsitm.NetDelta.values.reshape(-1, 4).sum(axis=1)\n",
    "    gammasitm = positionsitm.NetGamma.values.reshape(-1, 4).sum(axis=1)\n",
    "    vegasitm = positionsitm.NetVega.values.reshape(-1, 4).sum(axis=1)\n",
    "    thetasitm = positionsitm.NetTheta.values.reshape(-1, 4).sum(axis=1)\n",
    "    vommasitm = positionsitm.NetVomma.values.reshape(-1, 4).sum(axis=1)\n",
    "    ultimasitm = positionsitm.NetUltima.values.reshape(-1, 4).sum(axis=1)\n",
    "    \n",
    "    ################################################################################\n",
    "\n",
    "    otmcalls = ordered_pairs(otmc.strike_price, otmc.strike_price, True)\n",
    "    otmputs = ordered_pairs(otmp.strike_price, otmp.strike_price, True)\n",
    "\n",
    "    condor_strikes = ordered_pairs(otmputs, otmcalls, True)\n",
    "    condor_strikes = [e[0] + e[1] for e in condor_strikes]\n",
    "    condor_strikes = [e for item in condor_strikes for e in item]\n",
    "\n",
    "    strikes = pd.DataFrame(condor_strikes, columns = ['strike_price'])\n",
    "    strikes['option_type'] = ['P', 'P', 'C', 'C'] * int(len(condor_strikes) / 4)\n",
    "\n",
    "    positionsotm = strikes.merge(exp, on=['strike_price', 'option_type'], how='left')\n",
    "    positionsotm['directions'] = directions * int(len(condor_strikes) / 4)\n",
    "\n",
    "    positionsotm['NetDelta'] = positionsotm.delta * positionsotm.directions\n",
    "    positionsotm['NetGamma'] = positionsotm.gamma * positionsotm.directions\n",
    "    positionsotm['NetVega'] = positionsotm.vega * positionsotm.directions\n",
    "    positionsotm['NetTheta'] = positionsotm.theta * positionsotm.directions\n",
    "    positionsotm['NetVomma'] = positionsotm.vomma * positionsotm.directions\n",
    "    positionsotm['NetUltima'] = positionsotm.ultima * positionsotm.directions\n",
    "\n",
    "    deltasotm = positionsotm.NetDelta.values.reshape(-1, 4).sum(axis=1)\n",
    "    gammasotm = positionsotm.NetGamma.values.reshape(-1, 4).sum(axis=1)\n",
    "    vegasotm = positionsotm.NetVega.values.reshape(-1, 4).sum(axis=1)\n",
    "    thetasotm = positionsotm.NetTheta.values.reshape(-1, 4).sum(axis=1)\n",
    "    vommasotm = positionsotm.NetVomma.values.reshape(-1, 4).sum(axis=1)\n",
    "    ultimasotm = positionsotm.NetUltima.values.reshape(-1, 4).sum(axis=1)\n",
    "    \n",
    "    ################################################################################\n",
    "    \n",
    "    stats[expiration] = {\n",
    "        \"deltasc\" : deltasc,\n",
    "        \"gammasc\" : gammasc,\n",
    "        \"vegasc\" : vegasc,\n",
    "        \"thetasc\" : thetasc,\n",
    "        \"vommasc\" : vommasc,\n",
    "        \"ultimasc\" : ultimasc,\n",
    "        \"deltasp\" : deltasp,\n",
    "        \"gammasp\" : gammasp,\n",
    "        \"vegasp\" : vegasp,\n",
    "        \"thetasp\" : thetasp,\n",
    "        \"vommasp\" : vommasp,\n",
    "        \"ultimasp\" : ultimasp,\n",
    "        \"deltasitm\" : deltasitm,\n",
    "        \"gammasitm\" : gammasitm,\n",
    "        \"vegasitm\" : vegasitm,\n",
    "        \"thetasitm\" : thetasitm,\n",
    "        \"vommasitm\" : vommasitm,\n",
    "        \"ultimasitm\" : ultimasitm,\n",
    "        \"deltasotm\" : deltasotm,\n",
    "        \"gammasotm\" : gammasotm,\n",
    "        \"vegasotm\" : vegasotm,\n",
    "        \"thetasotm\" : thetasotm,\n",
    "        \"vommasotm\" : vommasotm,\n",
    "        \"ultimasotm\" : ultimasotm\n",
    "    }"
   ]
  },
  {
   "cell_type": "markdown",
   "metadata": {},
   "source": [
    "### Distributional Properties"
   ]
  },
  {
   "cell_type": "code",
   "execution_count": 78,
   "metadata": {},
   "outputs": [],
   "source": [
    "expiration_stats = {}\n",
    "for expiration in stats:\n",
    "    \n",
    "    exp = stats[expiration]\n",
    "    expiration_stats[expiration] = {\n",
    "        \"deltas\" : exp['deltasc'].tolist() + exp['deltasp'].tolist() + exp['deltasitm'].tolist() + exp['deltasotm'].tolist(),\n",
    "        \"gammas\" : exp['gammasc'].tolist() + exp['gammasp'].tolist() + exp['gammasitm'].tolist() + exp['gammasotm'].tolist(),\n",
    "        \"thetas\" : exp['thetasc'].tolist() + exp['thetasp'].tolist() + exp['thetasitm'].tolist() + exp['thetasotm'].tolist(),\n",
    "        \"vegas\" : exp['vegasc'].tolist() + exp['vegasp'].tolist() + exp['vegasitm'].tolist() + exp['vegasotm'].tolist(),\n",
    "        \"vommas\" : exp['vommasc'].tolist() + exp['vommasp'].tolist() + exp['vommasitm'].tolist() + exp['vommasotm'].tolist(),\n",
    "        \"ultimas\" : exp['ultimasc'].tolist() + exp['ultimasp'].tolist() + exp['ultimasitm'].tolist() + exp['ultimasotm'].tolist(),\n",
    "    }"
   ]
  },
  {
   "cell_type": "code",
   "execution_count": 80,
   "metadata": {},
   "outputs": [],
   "source": [
    "total_stats = {\n",
    "    \"deltas\" : [],\n",
    "    \"gammas\" : [],\n",
    "    \"thetas\" : [],\n",
    "    \"vegas\" : [],\n",
    "    \"vommas\" : [],\n",
    "    \"ultimas\" : []\n",
    "}\n",
    "\n",
    "for expiration in expiration_stats:\n",
    "    for key in total_stats:\n",
    "        total_stats[key].extend(expiration_stats[expiration][key])"
   ]
  },
  {
   "cell_type": "markdown",
   "metadata": {},
   "source": [
    "### Plots"
   ]
  },
  {
   "cell_type": "code",
   "execution_count": 107,
   "metadata": {},
   "outputs": [],
   "source": [
    "stats = pd.DataFrame(total_stats)"
   ]
  },
  {
   "cell_type": "code",
   "execution_count": 155,
   "metadata": {},
   "outputs": [
    {
     "data": {
      "image/png": "[encoded data removed]",
      "text/plain": [
       "<Figure size 1440x720 with 6 Axes>"
      ]
     },
     "metadata": {
      "needs_background": "light"
     },
     "output_type": "display_data"
    }
   ],
   "source": [
    "f, ax = plt.subplots(2, 3, figsize=(20, 10))\n",
    "for i, key in enumerate(stats):\n",
    "    \n",
    "    if i < 3:\n",
    "        j = 0\n",
    "    else:\n",
    "        j = 1\n",
    "    \n",
    "    ax[j][i % 3].hist(stats[key])\n",
    "    ax[j][i % 3].set_title(key)\n",
    "\n",
    "f.tight_layout()\n",
    "f.savefig(\"plots/same_expiration_greeks.png\")"
   ]
  },
  {
   "cell_type": "code",
   "execution_count": null,
   "metadata": {},
   "outputs": [],
   "source": []
  }
 ],
 "metadata": {
  "kernelspec": {
   "display_name": "Python 3",
   "language": "python",
   "name": "python3"
  },
  "language_info": {
   "codemirror_mode": {
    "name": "ipython",
    "version": 3
   },
   "file_extension": ".py",
   "mimetype": "text/x-python",
   "name": "python",
   "nbconvert_exporter": "python",
   "pygments_lexer": "ipython3",
   "version": "3.7.6"
  }
 },
 "nbformat": 4,
 "nbformat_minor": 4
}
