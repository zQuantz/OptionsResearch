{
 "cells": [
  {
   "cell_type": "code",
   "execution_count": 1,
   "metadata": {},
   "outputs": [],
   "source": [
    "import pandas as pd\n",
    "import numpy as np\n",
    "import sys, os\n",
    "\n",
    "from scipy.stats import norm"
   ]
  },
  {
   "cell_type": "markdown",
   "metadata": {},
   "source": [
    "### Data"
   ]
  },
  {
   "cell_type": "code",
   "execution_count": 2,
   "metadata": {},
   "outputs": [],
   "source": [
    "df = pd.read_csv(\"data/filtered_tsla_options.csv\")"
   ]
  },
  {
   "cell_type": "markdown",
   "metadata": {},
   "source": [
    "### Netwon's Method"
   ]
  },
  {
   "cell_type": "code",
   "execution_count": 222,
   "metadata": {},
   "outputs": [],
   "source": [
    "def blackscholes(S, K, T, v, r, q, t):\n",
    "    \n",
    "    d1 = np.log(S / K) + (r - q + v * v * 0.5) * T\n",
    "    d1 /= v * np.sqrt(T)\n",
    "    d2 = d1 - v * np.sqrt(T)\n",
    "    \n",
    "    price = t * S * np.exp(-q * T) * norm.cdf(t * d1)\n",
    "    price -= t * K * np.exp(-r * T) * norm.cdf(t * d2)\n",
    "    \n",
    "    return price\n",
    "\n",
    "def vega(S, K, T, v, r, q, t):\n",
    "    \n",
    "    d1 = np.log(S / K) + (r - q + v * v * 0.5) * T\n",
    "    d1 /= v * np.sqrt(T)\n",
    "    \n",
    "    return S * np.exp(-q * T) * norm.pdf(d1) * np.sqrt(T)"
   ]
  },
  {
   "cell_type": "code",
   "execution_count": 318,
   "metadata": {},
   "outputs": [],
   "source": [
    "M = ((df.bid_price + df.ask_price) * 0.5).values\n",
    "L = df.option_price.values\n",
    "S = df.stock_price.values\n",
    "K = df.strike_price.values\n",
    "T = df.days_to_expiry.values / 365\n",
    "v = df.implied_volatility.values / 100\n",
    "r = df.rate.values / 100\n",
    "q = df.dividend_yield.values / 100\n",
    "t = df.option_type.map({\"C\" : 1, \"P\" : -1})"
   ]
  },
  {
   "cell_type": "markdown",
   "metadata": {},
   "source": [
    "### Solve"
   ]
  },
  {
   "cell_type": "code",
   "execution_count": 320,
   "metadata": {},
   "outputs": [],
   "source": [
    "v = pd.Series([0.5]*len(df))"
   ]
  },
  {
   "cell_type": "code",
   "execution_count": 335,
   "metadata": {},
   "outputs": [
    {
     "data": {
      "text/plain": [
       "(0        1.222788\n",
       " 1        2.678086\n",
       " 2        1.478001\n",
       " 3        1.548642\n",
       " 4        1.185568\n",
       "            ...   \n",
       " 10269    0.681245\n",
       " 10270    0.697113\n",
       " 10271    0.654956\n",
       " 10272    0.674039\n",
       " 10273    0.676988\n",
       " Length: 10274, dtype: float64,\n",
       " 0       -5.170774e-16\n",
       " 1        0.000000e+00\n",
       " 2        4.765366e-16\n",
       " 3       -9.343153e-16\n",
       " 4        9.749878e-16\n",
       "              ...     \n",
       " 10269    9.694787e-17\n",
       " 10270    0.000000e+00\n",
       " 10271    0.000000e+00\n",
       " 10272    0.000000e+00\n",
       " 10273    1.758935e-16\n",
       " Name: option_type, Length: 10274, dtype: float64)"
      ]
     },
     "execution_count": 335,
     "metadata": {},
     "output_type": "execute_result"
    }
   ],
   "source": [
    "e = (blackscholes(S, K, T, v, r, q, t) - L) / vega(S, K, T, v, r, q, t)\n",
    "v = v - e\n",
    "v, e"
   ]
  },
  {
   "cell_type": "code",
   "execution_count": null,
   "metadata": {},
   "outputs": [],
   "source": []
  }
 ],
 "metadata": {
  "kernelspec": {
   "display_name": "Python 3",
   "language": "python",
   "name": "python3"
  },
  "language_info": {
   "codemirror_mode": {
    "name": "ipython",
    "version": 3
   },
   "file_extension": ".py",
   "mimetype": "text/x-python",
   "name": "python",
   "nbconvert_exporter": "python",
   "pygments_lexer": "ipython3",
   "version": "3.7.6"
  }
 },
 "nbformat": 4,
 "nbformat_minor": 4
}
