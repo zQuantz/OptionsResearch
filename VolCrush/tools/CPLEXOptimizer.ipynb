{
 "cells": [
  {
   "cell_type": "code",
   "execution_count": 1,
   "metadata": {},
   "outputs": [],
   "source": [
    "import docplex.mp.model as cpx\n",
    "import pandas as pd\n",
    "import numpy as np\n",
    "import sys, os"
   ]
  },
  {
   "cell_type": "markdown",
   "metadata": {},
   "source": [
    "### Data"
   ]
  },
  {
   "cell_type": "code",
   "execution_count": 2,
   "metadata": {},
   "outputs": [],
   "source": [
    "options = pd.read_csv(\"data/filtered_tsla_options_w_greeks.csv\")\n",
    "options = options[options.date_current == \"2020-07-13\"]\n",
    "options = options[options.days_to_expiry.isin([95.0, 186.0, 249.0])]\n",
    "\n",
    "strikes = options.strike_price.value_counts()\n",
    "strikes = strikes[strikes >= 3].index\n",
    "options = options[options.strike_price.isin(strikes)]"
   ]
  },
  {
   "cell_type": "code",
   "execution_count": 3,
   "metadata": {},
   "outputs": [],
   "source": [
    "options = options.iloc[:20]"
   ]
  },
  {
   "cell_type": "markdown",
   "metadata": {},
   "source": [
    "### Model"
   ]
  },
  {
   "cell_type": "code",
   "execution_count": 4,
   "metadata": {},
   "outputs": [],
   "source": [
    "## Params\n",
    "N = len(options)\n",
    "delta = np.concatenate((options.delta.values, -1 * options.delta.values))\n",
    "gamma = np.concatenate((options.gamma.values, -1 * options.gamma.values))\n",
    "vega = np.concatenate((options.vega.values, -1 * options.vega.values))\n",
    "vomma = np.concatenate((options.vomma.values, -1 * options.vomma.values))\n",
    "\n",
    "## Model\n",
    "opt_model = cpx.Model(name=\"VolCrush Model\")\n",
    "\n",
    "## Variables\n",
    "x_vars = {\n",
    "    i : opt_model.binary_var(name=f\"l{i}\")\n",
    "    for i in range(N)\n",
    "}\n",
    "x_vars.update({\n",
    "    i+len(options) : opt_model.binary_var(name=f\"s{i}\")\n",
    "    for i in range(N)\n",
    "})\n",
    "\n",
    "## Constraints\n",
    "constraints = {\n",
    "    i : opt_model.add_constraint(\n",
    "        ct = opt_model.sum(x_vars[i] + x_vars[i + N]) <= 1,\n",
    "        ctname = f\"position_constraint_{i}\"\n",
    "    )\n",
    "    for i in range(N)\n",
    "}\n",
    "constraints[len(constraints)] = opt_model.add_constraint(\n",
    "    ct = opt_model.sum(x_vars[i] for i in range(2 * N)) <= 6,\n",
    "    ctname = f\"total_position_constraint\"\n",
    ")\n",
    "constraints[len(constraints)] = opt_model.add_constraint(\n",
    "    ct = opt_model.sum(x_vars[i] for i in range(2 * N)) >= 1,\n",
    "    ctname = f\"minimum_position_constraint\"\n",
    ")\n",
    "\n",
    "## Objective\n",
    "objective = opt_model.sum(\n",
    "    (x_vars[i] * delta[i]) + (x_vars[i] * gamma[i]) + (x_vars[i] * vega[i]) + (x_vars[i] * vomma[i])\n",
    "    for i in range(2 * N)\n",
    ")\n",
    "objective = opt_model.sum(\n",
    "    \n",
    "    opt_model.abs(\n",
    "        opt_model.sum(\n",
    "            x_vars[i] * delta[i]\n",
    "            for i in range(2 * N)\n",
    "        )\n",
    "    )\n",
    "    +\n",
    "    opt_model.abs(\n",
    "        opt_model.sum(\n",
    "            x_vars[i] * gamma[i]\n",
    "            for i in range(2 * N)\n",
    "        )\n",
    "    )\n",
    "    +\n",
    "    opt_model.abs(\n",
    "        opt_model.sum(\n",
    "            x_vars[i] * vega[i]\n",
    "            for i in range(2 * N)\n",
    "        )\n",
    "    )\n",
    "    +\n",
    "    opt_model.sum(\n",
    "        x_vars[i] * vomma[i]\n",
    "        for i in range(2 * N)\n",
    "    )\n",
    "    \n",
    ")\n",
    "opt_model.minimize(objective)"
   ]
  },
  {
   "cell_type": "code",
   "execution_count": 7,
   "metadata": {},
   "outputs": [
    {
     "name": "stdout",
     "output_type": "stream",
     "text": [
      "Version identifier: 12.10.0.0 | 2019-11-27 | 843d4de\n",
      "CPXPARAM_Read_DataCheck                          1\n",
      "CPXPARAM_RandomSeed                              201903125\n",
      "\n",
      "Root node processing (before b&c):\n",
      "  Real time             =    0.00 sec. (0.00 ticks)\n",
      "Parallel b&c, 8 threads:\n",
      "  Real time             =    0.00 sec. (0.00 ticks)\n",
      "  Sync time (average)   =    0.06 sec.\n",
      "  Wait time (average)   =    0.00 sec.\n",
      "                          ------------\n",
      "Total (root+branch&cut) =    0.00 sec. (0.00 ticks)\n"
     ]
    },
    {
     "data": {
      "text/plain": [
       "docplex.mp.solution.SolveSolution(obj=-0.008448,values={l11:1,l13:1,l14:.."
      ]
     },
     "execution_count": 7,
     "metadata": {},
     "output_type": "execute_result"
    }
   ],
   "source": [
    "opt_model.solve(log_output=True)"
   ]
  },
  {
   "cell_type": "markdown",
   "metadata": {},
   "source": [
    "### Results "
   ]
  },
  {
   "cell_type": "code",
   "execution_count": 6,
   "metadata": {},
   "outputs": [],
   "source": [
    "import pandas as pd\n",
    "opt_df = pd.DataFrame.from_dict(x_vars, orient=\"index\", columns = [\"variable_object\"])\n",
    "opt_df.reset_index(inplace=True)\n",
    "# CPLEX\n",
    "opt_df[\"solution_value\"] = opt_df[\"variable_object\"].apply(lambda item: item.solution_value)\n",
    "opt_df.drop(columns=[\"variable_object\"], inplace=True)\n",
    "opt_df.to_csv(\"optimization_solution.csv\")"
   ]
  },
  {
   "cell_type": "code",
   "execution_count": 15,
   "metadata": {},
   "outputs": [],
   "source": [
    "sol = opt_model.solution"
   ]
  },
  {
   "cell_type": "code",
   "execution_count": 17,
   "metadata": {},
   "outputs": [
    {
     "data": {
      "text/plain": [
       "'{\"CPLEXSolution\": {\"version\": \"1.0\", \"header\": {\"problemName\": \"VolCrush Model\", \"objectiveValue\": \"-0.008447999999999647\", \"solved_by\": \"cplex_local\"}, \"variables\": [{\"index\": \"11\", \"name\": \"l11\", \"value\": \"1.0\"}, {\"index\": \"13\", \"name\": \"l13\", \"value\": \"1.0\"}, {\"index\": \"14\", \"name\": \"l14\", \"value\": \"1.0\"}, {\"index\": \"21\", \"name\": \"s1\", \"value\": \"1.0\"}, {\"index\": \"38\", \"name\": \"s18\", \"value\": \"1.0\"}, {\"index\": \"39\", \"name\": \"s19\", \"value\": \"1.0\"}], \"linearConstraints\": [{\"name\": \"position_constraint_0\", \"index\": 0, \"slack\": 1.0}, {\"name\": \"position_constraint_1\", \"index\": 1}, {\"name\": \"position_constraint_2\", \"index\": 2, \"slack\": 1.0}, {\"name\": \"position_constraint_3\", \"index\": 3, \"slack\": 1.0}, {\"name\": \"position_constraint_4\", \"index\": 4, \"slack\": 1.0}, {\"name\": \"position_constraint_5\", \"index\": 5, \"slack\": 1.0}, {\"name\": \"position_constraint_6\", \"index\": 6, \"slack\": 1.0}, {\"name\": \"position_constraint_7\", \"index\": 7, \"slack\": 1.0}, {\"name\": \"position_constraint_8\", \"index\": 8, \"slack\": 1.0}, {\"name\": \"position_constraint_9\", \"index\": 9, \"slack\": 1.0}, {\"name\": \"position_constraint_10\", \"index\": 10, \"slack\": 1.0}, {\"name\": \"position_constraint_11\", \"index\": 11}, {\"name\": \"position_constraint_12\", \"index\": 12, \"slack\": 1.0}, {\"name\": \"position_constraint_13\", \"index\": 13}, {\"name\": \"position_constraint_14\", \"index\": 14}, {\"name\": \"position_constraint_15\", \"index\": 15, \"slack\": 1.0}, {\"name\": \"position_constraint_16\", \"index\": 16, \"slack\": 1.0}, {\"name\": \"position_constraint_17\", \"index\": 17, \"slack\": 1.0}, {\"name\": \"position_constraint_18\", \"index\": 18}, {\"name\": \"position_constraint_19\", \"index\": 19}, {\"name\": \"total_position_constraint\", \"index\": 20}, {\"name\": \"minimum_position_constraint\", \"index\": 21, \"slack\": -5.0}, {\"name\": null, \"index\": 22}, {\"name\": null, \"index\": 23, \"slack\": 4.336808689942018e-19}, {\"name\": null, \"index\": 24}, {\"name\": null, \"index\": 25}, {\"name\": null, \"index\": 26}, {\"name\": null, \"index\": 27}, {\"name\": null, \"index\": 28, \"slack\": 2.220446049250313e-16}, {\"name\": null, \"index\": 29}, {\"name\": null, \"index\": 30}]}}'"
      ]
     },
     "execution_count": 17,
     "metadata": {},
     "output_type": "execute_result"
    }
   ],
   "source": [
    "sol.export_as_json_string()"
   ]
  },
  {
   "cell_type": "code",
   "execution_count": null,
   "metadata": {},
   "outputs": [],
   "source": []
  }
 ],
 "metadata": {
  "kernelspec": {
   "display_name": "Python 3",
   "language": "python",
   "name": "python3"
  },
  "language_info": {
   "codemirror_mode": {
    "name": "ipython",
    "version": 3
   },
   "file_extension": ".py",
   "mimetype": "text/x-python",
   "name": "python",
   "nbconvert_exporter": "python",
   "pygments_lexer": "ipython3",
   "version": "3.7.6"
  }
 },
 "nbformat": 4,
 "nbformat_minor": 4
}
