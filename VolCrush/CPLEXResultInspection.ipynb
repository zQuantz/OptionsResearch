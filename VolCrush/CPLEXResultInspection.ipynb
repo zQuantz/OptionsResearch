{
 "cells": [
  {
   "cell_type": "code",
   "execution_count": 1,
   "metadata": {},
   "outputs": [],
   "source": [
    "import pandas as pd\n",
    "import numpy as np\n",
    "import sys, os\n",
    "import json\n",
    "\n",
    "import matplotlib.pyplot as plt\n",
    "import seaborn as sns\n",
    "\n",
    "greek_cols = [\n",
    "\t'delta',\n",
    "\t'gamma',\n",
    "\t'theta',\n",
    "\t'vega',\n",
    "\t'rho',\n",
    "\t'vanna',\n",
    "\t'vomma',\n",
    "\t'charm',\n",
    "\t'veta',\n",
    "\t'speed',\n",
    "\t'zomma',\n",
    "\t'color',\n",
    "\t'ultima'\n",
    "]"
   ]
  },
  {
   "cell_type": "markdown",
   "metadata": {},
   "source": [
    "### Data"
   ]
  },
  {
   "cell_type": "code",
   "execution_count": 2,
   "metadata": {},
   "outputs": [],
   "source": [
    "options = pd.read_csv(\"data/filtered_tsla_options_w_greeks.csv\")\n",
    "options = options[options.date_current == \"2020-07-13\"]\n",
    "options = options[options.days_to_expiry.isin([95.0, 186.0, 249.0])]\n",
    "\n",
    "strikes = options.strike_price.value_counts()\n",
    "strikes = strikes[strikes >= 3].index\n",
    "options = options[options.strike_price.isin(strikes)].reset_index(drop=True)"
   ]
  },
  {
   "cell_type": "markdown",
   "metadata": {},
   "source": [
    "### Results"
   ]
  },
  {
   "cell_type": "code",
   "execution_count": 3,
   "metadata": {},
   "outputs": [],
   "source": [
    "with open(\"cplex_results/results_18.json\", \"r\") as file:\n",
    "    results = json.loads(json.loads(file.read()))"
   ]
  },
  {
   "cell_type": "code",
   "execution_count": 4,
   "metadata": {},
   "outputs": [
    {
     "name": "stdout",
     "output_type": "stream",
     "text": [
      "Indices [131, 284, 96, 255]\n",
      "Directions [2.0, 2.0, -2.0, -2.0]\n"
     ]
    }
   ],
   "source": [
    "legs = results['CPLEXSolution']['variables']\n",
    "\n",
    "directions = [\n",
    "    float(leg['value']) if leg['name'][0] == 'l' else float(leg['value']) * -1\n",
    "    for leg in legs\n",
    "]\n",
    "idc = [\n",
    "    int(leg['name'][1:])\n",
    "    for leg in legs\n",
    "]\n",
    "\n",
    "print(\"Indices\", idc)\n",
    "print(\"Directions\", directions)"
   ]
  },
  {
   "cell_type": "markdown",
   "metadata": {},
   "source": [
    "### Collect Legs"
   ]
  },
  {
   "cell_type": "code",
   "execution_count": 5,
   "metadata": {},
   "outputs": [],
   "source": [
    "position_legs = options.iloc[idc].reset_index(drop=True)\n",
    "position_legs['Direction'] = directions"
   ]
  },
  {
   "cell_type": "markdown",
   "metadata": {},
   "source": [
    "### Check Position"
   ]
  },
  {
   "cell_type": "code",
   "execution_count": 8,
   "metadata": {},
   "outputs": [
    {
     "data": {
      "text/html": [
       "<div>\n",
       "<style scoped>\n",
       "    .dataframe tbody tr th:only-of-type {\n",
       "        vertical-align: middle;\n",
       "    }\n",
       "\n",
       "    .dataframe tbody tr th {\n",
       "        vertical-align: top;\n",
       "    }\n",
       "\n",
       "    .dataframe thead th {\n",
       "        text-align: right;\n",
       "    }\n",
       "</style>\n",
       "<table border=\"1\" class=\"dataframe\">\n",
       "  <thead>\n",
       "    <tr style=\"text-align: right;\">\n",
       "      <th></th>\n",
       "      <th>option_id</th>\n",
       "      <th>Direction</th>\n",
       "    </tr>\n",
       "  </thead>\n",
       "  <tbody>\n",
       "    <tr>\n",
       "      <th>0</th>\n",
       "      <td>TSLA 2021-03-19 C232</td>\n",
       "      <td>2.0</td>\n",
       "    </tr>\n",
       "    <tr>\n",
       "      <th>1</th>\n",
       "      <td>TSLA 2021-01-15 P362</td>\n",
       "      <td>2.0</td>\n",
       "    </tr>\n",
       "    <tr>\n",
       "      <th>2</th>\n",
       "      <td>TSLA 2021-01-15 C300</td>\n",
       "      <td>-2.0</td>\n",
       "    </tr>\n",
       "    <tr>\n",
       "      <th>3</th>\n",
       "      <td>TSLA 2021-01-15 P302</td>\n",
       "      <td>-2.0</td>\n",
       "    </tr>\n",
       "  </tbody>\n",
       "</table>\n",
       "</div>"
      ],
      "text/plain": [
       "              option_id  Direction\n",
       "0  TSLA 2021-03-19 C232        2.0\n",
       "1  TSLA 2021-01-15 P362        2.0\n",
       "2  TSLA 2021-01-15 C300       -2.0\n",
       "3  TSLA 2021-01-15 P302       -2.0"
      ]
     },
     "execution_count": 8,
     "metadata": {},
     "output_type": "execute_result"
    }
   ],
   "source": [
    "position_map = position_legs[['option_id', 'Direction']]\n",
    "position_map"
   ]
  },
  {
   "cell_type": "markdown",
   "metadata": {},
   "source": [
    "### Analyze Greeks"
   ]
  },
  {
   "cell_type": "code",
   "execution_count": 6,
   "metadata": {},
   "outputs": [],
   "source": [
    "greeks = position_legs.loc[:, greek_cols]\n",
    "greeks = pd.concat([\n",
    "    greeks.multiply(position_legs.Direction, axis=0),\n",
    "    greeks.multiply(position_legs.Direction, axis=0).sum(axis=0).to_frame().T\n",
    "]).T\n",
    "cols = position_legs.option_id.values.tolist()\n",
    "cols = [f\"{direction} x {col}\" for direction, col in zip(position_legs.Direction, cols)]\n",
    "greeks.columns = cols + [\"Net\"]"
   ]
  },
  {
   "cell_type": "code",
   "execution_count": 7,
   "metadata": {},
   "outputs": [
    {
     "data": {
      "text/html": [
       "<div>\n",
       "<style scoped>\n",
       "    .dataframe tbody tr th:only-of-type {\n",
       "        vertical-align: middle;\n",
       "    }\n",
       "\n",
       "    .dataframe tbody tr th {\n",
       "        vertical-align: top;\n",
       "    }\n",
       "\n",
       "    .dataframe thead th {\n",
       "        text-align: right;\n",
       "    }\n",
       "</style>\n",
       "<table border=\"1\" class=\"dataframe\">\n",
       "  <thead>\n",
       "    <tr style=\"text-align: right;\">\n",
       "      <th></th>\n",
       "      <th>2.0 x TSLA 2021-03-19 C232</th>\n",
       "      <th>2.0 x TSLA 2021-01-15 P362</th>\n",
       "      <th>-2.0 x TSLA 2021-01-15 C300</th>\n",
       "      <th>-2.0 x TSLA 2021-01-15 P302</th>\n",
       "      <th>Net</th>\n",
       "    </tr>\n",
       "  </thead>\n",
       "  <tbody>\n",
       "    <tr>\n",
       "      <th>delta</th>\n",
       "      <td>1.525312</td>\n",
       "      <td>-1.002304</td>\n",
       "      <td>-1.263190</td>\n",
       "      <td>0.742812</td>\n",
       "      <td>0.002630</td>\n",
       "    </tr>\n",
       "    <tr>\n",
       "      <th>gamma</th>\n",
       "      <td>0.002772</td>\n",
       "      <td>0.004346</td>\n",
       "      <td>-0.003714</td>\n",
       "      <td>-0.003706</td>\n",
       "      <td>-0.000302</td>\n",
       "    </tr>\n",
       "    <tr>\n",
       "      <th>theta</th>\n",
       "      <td>-0.276564</td>\n",
       "      <td>-0.393814</td>\n",
       "      <td>0.411474</td>\n",
       "      <td>0.414708</td>\n",
       "      <td>0.155804</td>\n",
       "    </tr>\n",
       "    <tr>\n",
       "      <th>vega</th>\n",
       "      <td>1.528228</td>\n",
       "      <td>1.705354</td>\n",
       "      <td>-1.611720</td>\n",
       "      <td>-1.615980</td>\n",
       "      <td>0.005882</td>\n",
       "    </tr>\n",
       "    <tr>\n",
       "      <th>rho</th>\n",
       "      <td>1.545456</td>\n",
       "      <td>-2.697338</td>\n",
       "      <td>-1.119738</td>\n",
       "      <td>1.964006</td>\n",
       "      <td>-0.307614</td>\n",
       "    </tr>\n",
       "    <tr>\n",
       "      <th>vanna</th>\n",
       "      <td>0.000202</td>\n",
       "      <td>0.005722</td>\n",
       "      <td>-0.002714</td>\n",
       "      <td>-0.002798</td>\n",
       "      <td>0.000412</td>\n",
       "    </tr>\n",
       "    <tr>\n",
       "      <th>vomma</th>\n",
       "      <td>-0.035728</td>\n",
       "      <td>0.003532</td>\n",
       "      <td>0.194986</td>\n",
       "      <td>0.196276</td>\n",
       "      <td>0.359066</td>\n",
       "    </tr>\n",
       "    <tr>\n",
       "      <th>charm</th>\n",
       "      <td>-0.000036</td>\n",
       "      <td>-0.001322</td>\n",
       "      <td>0.000694</td>\n",
       "      <td>0.000718</td>\n",
       "      <td>0.000054</td>\n",
       "    </tr>\n",
       "    <tr>\n",
       "      <th>veta</th>\n",
       "      <td>0.003004</td>\n",
       "      <td>0.004592</td>\n",
       "      <td>-0.003834</td>\n",
       "      <td>-0.003840</td>\n",
       "      <td>-0.000078</td>\n",
       "    </tr>\n",
       "    <tr>\n",
       "      <th>speed</th>\n",
       "      <td>-0.000018</td>\n",
       "      <td>-0.000014</td>\n",
       "      <td>0.000018</td>\n",
       "      <td>0.000018</td>\n",
       "      <td>0.000004</td>\n",
       "    </tr>\n",
       "    <tr>\n",
       "      <th>zomma</th>\n",
       "      <td>-0.003142</td>\n",
       "      <td>-0.005048</td>\n",
       "      <td>0.004362</td>\n",
       "      <td>0.004332</td>\n",
       "      <td>0.000504</td>\n",
       "    </tr>\n",
       "    <tr>\n",
       "      <th>color</th>\n",
       "      <td>-0.000006</td>\n",
       "      <td>-0.000012</td>\n",
       "      <td>0.000012</td>\n",
       "      <td>0.000012</td>\n",
       "      <td>0.000006</td>\n",
       "    </tr>\n",
       "    <tr>\n",
       "      <th>ultima</th>\n",
       "      <td>-0.922772</td>\n",
       "      <td>-0.881356</td>\n",
       "      <td>0.181784</td>\n",
       "      <td>0.182880</td>\n",
       "      <td>-1.439464</td>\n",
       "    </tr>\n",
       "  </tbody>\n",
       "</table>\n",
       "</div>"
      ],
      "text/plain": [
       "        2.0 x TSLA 2021-03-19 C232  2.0 x TSLA 2021-01-15 P362  \\\n",
       "delta                     1.525312                   -1.002304   \n",
       "gamma                     0.002772                    0.004346   \n",
       "theta                    -0.276564                   -0.393814   \n",
       "vega                      1.528228                    1.705354   \n",
       "rho                       1.545456                   -2.697338   \n",
       "vanna                     0.000202                    0.005722   \n",
       "vomma                    -0.035728                    0.003532   \n",
       "charm                    -0.000036                   -0.001322   \n",
       "veta                      0.003004                    0.004592   \n",
       "speed                    -0.000018                   -0.000014   \n",
       "zomma                    -0.003142                   -0.005048   \n",
       "color                    -0.000006                   -0.000012   \n",
       "ultima                   -0.922772                   -0.881356   \n",
       "\n",
       "        -2.0 x TSLA 2021-01-15 C300  -2.0 x TSLA 2021-01-15 P302       Net  \n",
       "delta                     -1.263190                     0.742812  0.002630  \n",
       "gamma                     -0.003714                    -0.003706 -0.000302  \n",
       "theta                      0.411474                     0.414708  0.155804  \n",
       "vega                      -1.611720                    -1.615980  0.005882  \n",
       "rho                       -1.119738                     1.964006 -0.307614  \n",
       "vanna                     -0.002714                    -0.002798  0.000412  \n",
       "vomma                      0.194986                     0.196276  0.359066  \n",
       "charm                      0.000694                     0.000718  0.000054  \n",
       "veta                      -0.003834                    -0.003840 -0.000078  \n",
       "speed                      0.000018                     0.000018  0.000004  \n",
       "zomma                      0.004362                     0.004332  0.000504  \n",
       "color                      0.000012                     0.000012  0.000006  \n",
       "ultima                     0.181784                     0.182880 -1.439464  "
      ]
     },
     "execution_count": 7,
     "metadata": {},
     "output_type": "execute_result"
    }
   ],
   "source": [
    "greeks"
   ]
  },
  {
   "cell_type": "markdown",
   "metadata": {},
   "source": [
    "### Analyze Profit"
   ]
  },
  {
   "cell_type": "code",
   "execution_count": 9,
   "metadata": {},
   "outputs": [
    {
     "data": {
      "text/plain": [
       "date_current\n",
       "2020-07-13      NaN\n",
       "2020-07-27    26.96\n",
       "dtype: float64"
      ]
     },
     "execution_count": 9,
     "metadata": {},
     "output_type": "execute_result"
    }
   ],
   "source": [
    "optionsl = pd.read_csv(\"data/filtered_tsla_options_w_greeks.csv\")\n",
    "optionsl =  optionsl[optionsl.date_current.isin([\"2020-07-13\", \"2020-07-27\"])]\n",
    "optionsl = optionsl[optionsl.option_id.isin(position_legs.option_id)]\n",
    "optionsl = optionsl.merge(position_map, on=['option_id'])\n",
    "optionsl['mid'] = (optionsl.ask_price + optionsl.bid_price) * 0.5\n",
    "optionsl['cost'] = optionsl.mid * optionsl.Direction\n",
    "optionsl.groupby('date_current').apply(lambda x: x.cost.sum()).diff()"
   ]
  },
  {
   "cell_type": "code",
   "execution_count": null,
   "metadata": {},
   "outputs": [],
   "source": []
  }
 ],
 "metadata": {
  "kernelspec": {
   "display_name": "Python 3",
   "language": "python",
   "name": "python3"
  },
  "language_info": {
   "codemirror_mode": {
    "name": "ipython",
    "version": 3
   },
   "file_extension": ".py",
   "mimetype": "text/x-python",
   "name": "python",
   "nbconvert_exporter": "python",
   "pygments_lexer": "ipython3",
   "version": "3.7.6"
  }
 },
 "nbformat": 4,
 "nbformat_minor": 4
}
