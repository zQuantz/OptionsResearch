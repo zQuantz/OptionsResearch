{
 "cells": [
  {
   "cell_type": "code",
   "execution_count": 1,
   "metadata": {},
   "outputs": [],
   "source": [
    "import pandas as pd\n",
    "import numpy as np\n",
    "import sys, os\n",
    "\n",
    "from scipy.interpolate import CubicSpline, CubicHermiteSpline\n",
    "\n",
    "import matplotlib.pyplot as plt"
   ]
  },
  {
   "cell_type": "code",
   "execution_count": 2,
   "metadata": {},
   "outputs": [
    {
     "data": {
      "text/html": [
       "<div>\n",
       "<style scoped>\n",
       "    .dataframe tbody tr th:only-of-type {\n",
       "        vertical-align: middle;\n",
       "    }\n",
       "\n",
       "    .dataframe tbody tr th {\n",
       "        vertical-align: top;\n",
       "    }\n",
       "\n",
       "    .dataframe thead th {\n",
       "        text-align: right;\n",
       "    }\n",
       "</style>\n",
       "<table border=\"1\" class=\"dataframe\">\n",
       "  <thead>\n",
       "    <tr style=\"text-align: right;\">\n",
       "      <th></th>\n",
       "      <th>date_current</th>\n",
       "      <th>_1_month</th>\n",
       "      <th>_2_months</th>\n",
       "      <th>_3_months</th>\n",
       "      <th>_6_months</th>\n",
       "      <th>_1_year</th>\n",
       "      <th>_2_years</th>\n",
       "      <th>_3_years</th>\n",
       "      <th>_5_years</th>\n",
       "      <th>_7_years</th>\n",
       "      <th>_10_years</th>\n",
       "      <th>_20_years</th>\n",
       "      <th>_30_years</th>\n",
       "    </tr>\n",
       "  </thead>\n",
       "  <tbody>\n",
       "    <tr>\n",
       "      <th>0</th>\n",
       "      <td>2019-11-01</td>\n",
       "      <td>1.58</td>\n",
       "      <td>1.58</td>\n",
       "      <td>1.52</td>\n",
       "      <td>1.55</td>\n",
       "      <td>1.53</td>\n",
       "      <td>1.56</td>\n",
       "      <td>1.55</td>\n",
       "      <td>1.55</td>\n",
       "      <td>1.63</td>\n",
       "      <td>1.73</td>\n",
       "      <td>2.03</td>\n",
       "      <td>2.21</td>\n",
       "    </tr>\n",
       "    <tr>\n",
       "      <th>1</th>\n",
       "      <td>2019-11-04</td>\n",
       "      <td>1.58</td>\n",
       "      <td>1.57</td>\n",
       "      <td>1.53</td>\n",
       "      <td>1.57</td>\n",
       "      <td>1.56</td>\n",
       "      <td>1.60</td>\n",
       "      <td>1.59</td>\n",
       "      <td>1.60</td>\n",
       "      <td>1.69</td>\n",
       "      <td>1.79</td>\n",
       "      <td>2.10</td>\n",
       "      <td>2.27</td>\n",
       "    </tr>\n",
       "    <tr>\n",
       "      <th>2</th>\n",
       "      <td>2019-11-05</td>\n",
       "      <td>1.56</td>\n",
       "      <td>1.57</td>\n",
       "      <td>1.56</td>\n",
       "      <td>1.58</td>\n",
       "      <td>1.62</td>\n",
       "      <td>1.63</td>\n",
       "      <td>1.63</td>\n",
       "      <td>1.66</td>\n",
       "      <td>1.77</td>\n",
       "      <td>1.86</td>\n",
       "      <td>2.17</td>\n",
       "      <td>2.34</td>\n",
       "    </tr>\n",
       "    <tr>\n",
       "      <th>3</th>\n",
       "      <td>2019-11-06</td>\n",
       "      <td>1.55</td>\n",
       "      <td>1.56</td>\n",
       "      <td>1.56</td>\n",
       "      <td>1.57</td>\n",
       "      <td>1.58</td>\n",
       "      <td>1.61</td>\n",
       "      <td>1.60</td>\n",
       "      <td>1.63</td>\n",
       "      <td>1.73</td>\n",
       "      <td>1.81</td>\n",
       "      <td>2.13</td>\n",
       "      <td>2.30</td>\n",
       "    </tr>\n",
       "    <tr>\n",
       "      <th>4</th>\n",
       "      <td>2019-11-07</td>\n",
       "      <td>1.57</td>\n",
       "      <td>1.57</td>\n",
       "      <td>1.56</td>\n",
       "      <td>1.58</td>\n",
       "      <td>1.58</td>\n",
       "      <td>1.68</td>\n",
       "      <td>1.70</td>\n",
       "      <td>1.74</td>\n",
       "      <td>1.84</td>\n",
       "      <td>1.92</td>\n",
       "      <td>2.24</td>\n",
       "      <td>2.40</td>\n",
       "    </tr>\n",
       "  </tbody>\n",
       "</table>\n",
       "</div>"
      ],
      "text/plain": [
       "  date_current  _1_month  _2_months  _3_months  _6_months  _1_year  _2_years  \\\n",
       "0   2019-11-01      1.58       1.58       1.52       1.55     1.53      1.56   \n",
       "1   2019-11-04      1.58       1.57       1.53       1.57     1.56      1.60   \n",
       "2   2019-11-05      1.56       1.57       1.56       1.58     1.62      1.63   \n",
       "3   2019-11-06      1.55       1.56       1.56       1.57     1.58      1.61   \n",
       "4   2019-11-07      1.57       1.57       1.56       1.58     1.58      1.68   \n",
       "\n",
       "   _3_years  _5_years  _7_years  _10_years  _20_years  _30_years  \n",
       "0      1.55      1.55      1.63       1.73       2.03       2.21  \n",
       "1      1.59      1.60      1.69       1.79       2.10       2.27  \n",
       "2      1.63      1.66      1.77       1.86       2.17       2.34  \n",
       "3      1.60      1.63      1.73       1.81       2.13       2.30  \n",
       "4      1.70      1.74      1.84       1.92       2.24       2.40  "
      ]
     },
     "execution_count": 2,
     "metadata": {},
     "output_type": "execute_result"
    }
   ],
   "source": [
    "rates = pd.read_csv(\"data/rates.csv\")\n",
    "rates.head()"
   ]
  },
  {
   "cell_type": "code",
   "execution_count": 3,
   "metadata": {},
   "outputs": [],
   "source": [
    "mats = [\n",
    "    21,\n",
    "    42,\n",
    "    63,\n",
    "    126,\n",
    "    252,\n",
    "    504,\n",
    "    756,\n",
    "    252 * 5,\n",
    "    252 * 7,\n",
    "    252 * 10,\n",
    "    252 * 20,\n",
    "    252 * 30,\n",
    "]"
   ]
  },
  {
   "cell_type": "code",
   "execution_count": 4,
   "metadata": {},
   "outputs": [
    {
     "data": {
      "text/plain": [
       "array([1.58, 1.58, 1.52, 1.55, 1.53, 1.56, 1.55, 1.55, 1.63, 1.73, 2.03,\n",
       "       2.21], dtype=object)"
      ]
     },
     "execution_count": 4,
     "metadata": {},
     "output_type": "execute_result"
    }
   ],
   "source": [
    "y = rates.iloc[0, 1:].values\n",
    "y"
   ]
  },
  {
   "cell_type": "code",
   "execution_count": 12,
   "metadata": {},
   "outputs": [],
   "source": [
    "cs = CubicSpline(mats, y)"
   ]
  },
  {
   "cell_type": "code",
   "execution_count": 13,
   "metadata": {},
   "outputs": [
    {
     "data": {
      "image/png": "[encoded data removed]",
      "text/plain": [
       "<Figure size 1440x288 with 1 Axes>"
      ]
     },
     "metadata": {
      "needs_background": "light"
     },
     "output_type": "display_data"
    }
   ],
   "source": [
    "x = np.arange(0, 3650, 1)\n",
    "plt.figure(figsize=(20, 4))\n",
    "plt.title(\"Yield Curve - Cubic Spline Interpolation\")\n",
    "plt.xlabel(\"Days to Expiry\")\n",
    "plt.ylabel(\"Rate\")\n",
    "plt.plot(x, cs(x))\n",
    "plt.savefig(\"plots/yield_curve_linear_cubic.png\")\n",
    "plt.show()"
   ]
  },
  {
   "cell_type": "code",
   "execution_count": 14,
   "metadata": {},
   "outputs": [],
   "source": [
    "ratemap = pd.read_csv(\"data/ratemap.csv\")"
   ]
  },
  {
   "cell_type": "code",
   "execution_count": 15,
   "metadata": {},
   "outputs": [
    {
     "data": {
      "image/png": "[encoded data removed]",
      "text/plain": [
       "<Figure size 1440x288 with 1 Axes>"
      ]
     },
     "metadata": {
      "needs_background": "light"
     },
     "output_type": "display_data"
    }
   ],
   "source": [
    "plt.figure(figsize=(20, 4))\n",
    "plt.title(\"Yield Curve - Simple Linear Interpolation\")\n",
    "plt.xlabel(\"Days to Expiry\")\n",
    "plt.ylabel(\"Rate\")\n",
    "plt.plot(ratemap.days_to_expiry.values, ratemap.rate.values)\n",
    "plt.savefig(\"plots/yield_curve_linear_interp.png\")\n",
    "plt.show()"
   ]
  },
  {
   "cell_type": "markdown",
   "metadata": {},
   "source": [
    "### Yield Curve Per Day"
   ]
  },
  {
   "cell_type": "code",
   "execution_count": 18,
   "metadata": {},
   "outputs": [],
   "source": [
    "x = np.arange(0, 3651, 1)\n",
    "mats = [\n",
    "    0,\n",
    "    21,\n",
    "    42,\n",
    "    63,\n",
    "    126,\n",
    "    252,\n",
    "    504,\n",
    "    756,\n",
    "    252 * 5,\n",
    "    252 * 7,\n",
    "    252 * 10,\n",
    "    252 * 20,\n",
    "    252 * 30,\n",
    "]\n",
    "\n",
    "def yield_curve(y):\n",
    "    \n",
    "    dc = y.values[0][0]\n",
    "    y = [0] + y.values[0][1:].tolist()\n",
    "    \n",
    "    cs = CubicSpline(mats, y, bc_type=\"clamped\")\n",
    "    \n",
    "    df = pd.DataFrame()\n",
    "    df['tdays_to_expiry'] = x\n",
    "    df['rate'] = cs(x)\n",
    "    df['date_current'] = dc\n",
    "    \n",
    "    return df\n",
    "\n",
    "ratemap = rates.groupby(\"date_current\", axis=0, as_index=False)\n",
    "ratemap = ratemap.apply(yield_curve).reset_index(drop=True)"
   ]
  },
  {
   "cell_type": "code",
   "execution_count": 19,
   "metadata": {},
   "outputs": [],
   "source": [
    "ratemap.to_csv(\"data/cubic_ratemap.csv\", index=False)"
   ]
  },
  {
   "cell_type": "code",
   "execution_count": null,
   "metadata": {},
   "outputs": [],
   "source": []
  }
 ],
 "metadata": {
  "kernelspec": {
   "display_name": "Python 3",
   "language": "python",
   "name": "python3"
  },
  "language_info": {
   "codemirror_mode": {
    "name": "ipython",
    "version": 3
   },
   "file_extension": ".py",
   "mimetype": "text/x-python",
   "name": "python",
   "nbconvert_exporter": "python",
   "pygments_lexer": "ipython3",
   "version": "3.7.6"
  }
 },
 "nbformat": 4,
 "nbformat_minor": 4
}
