{
 "cells": [
  {
   "cell_type": "code",
   "execution_count": 108,
   "metadata": {},
   "outputs": [],
   "source": [
    "from scipy.stats import percentileofscore as pctrank\n",
    "from pandas.io.formats.style import Styler\n",
    "from bs4 import BeautifulSoup\n",
    "from datetime import datetime\n",
    "import pandas as pd\n",
    "import numpy as np\n",
    "import sys, os"
   ]
  },
  {
   "cell_type": "markdown",
   "metadata": {},
   "source": [
    "### Consts"
   ]
  },
  {
   "cell_type": "code",
   "execution_count": 2,
   "metadata": {},
   "outputs": [],
   "source": [
    "DATE = \"2010-01-01\""
   ]
  },
  {
   "cell_type": "markdown",
   "metadata": {},
   "source": [
    "### Data"
   ]
  },
  {
   "cell_type": "code",
   "execution_count": 3,
   "metadata": {},
   "outputs": [
    {
     "data": {
      "text/plain": [
       "{'RVOL': 'http://www.cboe.com//publish/scheduledtask/mktdata/datahouse/RVOL_History.csv',\n",
       " 'RVOL3M': 'http://www.cboe.com//publish/scheduledtask/mktdata/datahouse/RVOL3M_History.csv',\n",
       " 'RVOL6M': 'http://www.cboe.com//publish/scheduledtask/mktdata/datahouse/RVOL6M_History.csv',\n",
       " 'RVOL12M': 'http://www.cboe.com//publish/scheduledtask/mktdata/datahouse/RVOL12M_History.csv',\n",
       " 'VIX': 'http://www.cboe.com//publish/scheduledtask/mktdata/datahouse/VIXcurrent.csv',\n",
       " 'VXD': 'http://www.cboe.com//publish/scheduledtask/mktdata/datahouse/VXDohlcprices.csv',\n",
       " 'VXN': 'http://www.cboe.com//publish/scheduledtask/mktdata/datahouse/VXNcurrent.csv',\n",
       " 'RVX': 'http://www.cboe.com//publish/scheduledtask/mktdata/datahouse/RVXdailyprices.csv',\n",
       " 'VIX3M': 'http://www.cboe.com//publish/scheduledtask/mktdata/datahouse/VIX3Mdailyprices.csv',\n",
       " 'VIX6M': 'http://www.cboe.com//publish/scheduledtask/mktdata/datahouse/VIX6Mdailyprices.csv'}"
      ]
     },
     "execution_count": 3,
     "metadata": {},
     "output_type": "execute_result"
    }
   ],
   "source": [
    "products = pd.read_csv(\"data/vol_products.csv\")\n",
    "products = products.set_index(\"Ticker\")[\"Link\"].to_dict()\n",
    "products"
   ]
  },
  {
   "cell_type": "markdown",
   "metadata": {},
   "source": [
    "### Loaders"
   ]
  },
  {
   "cell_type": "code",
   "execution_count": 4,
   "metadata": {},
   "outputs": [],
   "source": [
    "def rvol(key):\n",
    "    rv = pd.read_csv(products[key])\n",
    "    rv['Date'] = pd.to_datetime(rv.Date.values)\n",
    "    rv = rv.sort_values('Date', ascending=True)\n",
    "    rv.columns = ['date', 'val']\n",
    "    return rv\n",
    "\n",
    "def get_vixm(key):\n",
    "    v = pd.read_csv(products[key], skiprows=2)\n",
    "    v.columns = ['date', 'open', 'high', 'low', 'val']\n",
    "    v['date'] = pd.to_datetime(v.date.values)\n",
    "    return v[['date', 'val']]\n",
    "\n",
    "def get_major(key, name, skip):\n",
    "    v = pd.read_csv(products[key], skiprows=skip)\n",
    "    v['Date'] = pd.to_datetime(v.Date.values)\n",
    "    v = v[['Date', name]]\n",
    "    v.columns = ['date', 'val']\n",
    "    return v"
   ]
  },
  {
   "cell_type": "markdown",
   "metadata": {},
   "source": [
    "### Downloads"
   ]
  },
  {
   "cell_type": "code",
   "execution_count": 5,
   "metadata": {},
   "outputs": [],
   "source": [
    "rv, rv3m, rv6m = rvol(\"RVOL\"), rvol(\"RVOL3M\"), rvol(\"RVOL6M\")"
   ]
  },
  {
   "cell_type": "code",
   "execution_count": 6,
   "metadata": {},
   "outputs": [],
   "source": [
    "vix3m, vix6m = get_vixm(\"VIX3M\"), get_vixm(\"VIX6M\")"
   ]
  },
  {
   "cell_type": "code",
   "execution_count": 7,
   "metadata": {},
   "outputs": [],
   "source": [
    "vix = get_major(\"VIX\", \"VIX Close\", 1)\n",
    "vxn = get_major(\"VXN\", \"Close\", 2)\n",
    "rvx = get_major(\"RVX\", \"Close\", 2)\n",
    "vxd = get_major(\"VXD\", \"Close\", 4)"
   ]
  },
  {
   "cell_type": "markdown",
   "metadata": {},
   "source": [
    "### Spot Indices"
   ]
  },
  {
   "cell_type": "code",
   "execution_count": 8,
   "metadata": {},
   "outputs": [],
   "source": [
    "URL = \"https://query1.finance.yahoo.com/v7/finance/download/{ticker}?period1={p1}&period2={p2}&interval=1d&events=history&includeAdjustedClose=true\"\n",
    "\n",
    "dt = datetime.now()\n",
    "\n",
    "p1 = datetime(dt.year-15, dt.month, dt.day)\n",
    "p2 = datetime(dt.year, dt.month, dt.day)\n",
    "\n",
    "p1 = int(p1.timestamp() / 1000) * 1000\n",
    "p2 = int(p2.timestamp() / 1000) * 1000"
   ]
  },
  {
   "cell_type": "code",
   "execution_count": 9,
   "metadata": {},
   "outputs": [],
   "source": [
    "def get_index(ticker, p1, p2):\n",
    "    index = pd.read_csv(URL.format(ticker=ticker, p1=p1, p2=p2))[['Date', 'Adj Close']]\n",
    "    index['Date'] = pd.to_datetime(index.Date.values)\n",
    "    index.columns = ['date', 'val']\n",
    "    return index[index.date >= DATE].reset_index(drop=True)\n",
    "\n",
    "def calculate_rv(data, days):\n",
    "    x = np.log(data.val / data.val.shift()) ** 2\n",
    "    x = x.rolling(days, min_periods=1).sum()\n",
    "    return np.sqrt(x * (252 / days)) * 100"
   ]
  },
  {
   "cell_type": "code",
   "execution_count": 10,
   "metadata": {},
   "outputs": [],
   "source": [
    "spx = get_index(\"%5EGSPC\", p1, p2)\n",
    "rut = get_index(\"%5ERUT\", p1, p2)\n",
    "dji = get_index(\"%5EDJI\", p1, p2)\n",
    "ndx = get_index(\"%5ENDX\", p1, p2)"
   ]
  },
  {
   "cell_type": "code",
   "execution_count": 11,
   "metadata": {},
   "outputs": [],
   "source": [
    "spxrv = calculate_rv(spx, 21)\n",
    "spxrv3m = calculate_rv(spx, 63)\n",
    "spxrv6m = calculate_rv(spx, 126)\n",
    "\n",
    "rutrv = calculate_rv(rut, 21)\n",
    "ndxrv = calculate_rv(ndx, 21)\n",
    "djirv = calculate_rv(dji, 21)"
   ]
  },
  {
   "cell_type": "markdown",
   "metadata": {},
   "source": [
    "### Filter by Date"
   ]
  },
  {
   "cell_type": "code",
   "execution_count": 12,
   "metadata": {},
   "outputs": [],
   "source": [
    "rv = rv[rv.date >= DATE].reset_index(drop=True)\n",
    "rv3m = rv3m[rv3m.date >= DATE].reset_index(drop=True)\n",
    "rv6m = rv6m[rv6m.date >= DATE].reset_index(drop=True)\n",
    "vix = vix[vix.date >= DATE].reset_index(drop=True)\n",
    "vix3m = vix3m[vix3m.date >= DATE].reset_index(drop=True)\n",
    "vix6m = vix6m[vix6m.date >= DATE].reset_index(drop=True)\n",
    "vxn = vxn[vxn.date >= DATE].reset_index(drop=True)\n",
    "rvx = rvx[rvx.date >= DATE].reset_index(drop=True)\n",
    "vxd = vxd[vxd.date >= DATE].reset_index(drop=True)"
   ]
  },
  {
   "cell_type": "markdown",
   "metadata": {},
   "source": [
    "### Spreads"
   ]
  },
  {
   "cell_type": "code",
   "execution_count": 81,
   "metadata": {},
   "outputs": [],
   "source": [
    "def spread_stats(ticker, ticker1, ticker2, rvol1, rvol2):\n",
    "    \n",
    "    data = pd.DataFrame(zip(\n",
    "        ticker1.date,\n",
    "        ticker1.val,\n",
    "        ticker2.val,\n",
    "        ticker1.val - ticker2.val,\n",
    "        rvol1 - rvol2\n",
    "    ), columns = ['date', 'v1', 'v2', 'spread', 'rvspread'])\n",
    "    \n",
    "    r3 = data.spread.rolling(252*3, min_periods=1)\n",
    "    r1 = data.spread.rolling(252, min_periods=1)\n",
    "\n",
    "    data['Ticker'] = ticker\n",
    "    data['Carry'] = data.rvspread - data.spread\n",
    "    data['Corr6M'] = data.v1.rolling(126, min_periods=1).corr(data.v2)\n",
    "    data['Corr3M'] = data.v1.rolling(63, min_periods=1).corr(data.v2)\n",
    "    \n",
    "    data['Mean3Y'] = r3.mean()\n",
    "    data['ZScore3Y'] = (data.spread - data.Mean3Y) / r3.std()\n",
    "    data['Min3Y'] = r3.min()\n",
    "    data['Max3Y'] = r3.max()\n",
    "    data['Rank3Y'] = (data.spread - data.Min3Y) / (data.Max3Y - data.Min3Y)\n",
    "    data['PctRank3Y'] = r3.apply(lambda x: pctrank(x, x.values[-1]) / 100)\n",
    "\n",
    "    data['Mean'] = r1.mean()\n",
    "    data['ZScore'] = (data.spread - data.Mean) / r1.std()\n",
    "    data['Min'] = r1.min()\n",
    "    data['Max'] = r1.max()\n",
    "    data['Rank'] = (data.spread - data.Min) / (data.Max - data.Min)\n",
    "    data['PctRank'] = r1.apply(lambda x: pctrank(x, x.values[-1]) / 100)\n",
    "    \n",
    "    return data"
   ]
  },
  {
   "cell_type": "code",
   "execution_count": 177,
   "metadata": {},
   "outputs": [],
   "source": [
    "rvx_vix = spread_stats(\"RVX VIX\", rvx, vix, rutrv, spxrv)\n",
    "vxd_vix = spread_stats(\"VXD VIX\", vxd, vix, djirv, spxrv)\n",
    "vxn_vix = spread_stats(\"VXN VIX\", vxn, vix, ndxrv, spxrv)\n",
    "vix3m_vix = spread_stats(\"VIX3M VIX\", vix3m, vix, spxrv3m, spxrv)\n",
    "vix6m_vix = spread_stats(\"VIX6M VIX\", vix6m, vix, spxrv6m, spxrv)\n",
    "vxd_vxn = spread_stats(\"VXD VXN\", vxd, vxn, djirv, ndxrv)\n",
    "rvx_vxn = spread_stats(\"RVX VXN\", rvx, vxn, rutrv, ndxrv)\n",
    "rvx_vxd = spread_stats(\"RVX VXD\", rvx, vxd, rutrv, djirv)"
   ]
  },
  {
   "cell_type": "markdown",
   "metadata": {},
   "source": [
    "### Styling"
   ]
  },
  {
   "cell_type": "code",
   "execution_count": 178,
   "metadata": {},
   "outputs": [],
   "source": [
    "def style(data):\n",
    "    \n",
    "    styler = Styler(data.iloc[-1:], precision=3)\n",
    "    \n",
    "    def z_score(x):\n",
    "        m = x.mean()\n",
    "        return m - x.std() * 3, m + x.std() * 3\n",
    "    \n",
    "    keys = ['Mean', '6M Corr.', '3M Corr.', 'Carry', 'Implied Spread', 'RVol Spread']\n",
    "    for key in keys:\n",
    "        l, h = z_score(data[key])\n",
    "        styler = styler.background_gradient(cmap=\"bwr\", vmin=l, vmax=h, subset=[key])\n",
    "                \n",
    "    keys = ['Rank', 'Pct. Rank']\n",
    "    styler = styler.background_gradient(cmap=\"bwr\", vmin=-0.1, vmax=1.1, subset=keys)\n",
    "    styler = styler.background_gradient(cmap=\"bwr\", vmin=-3, vmax=3, subset=[\"Z-Score\"])\n",
    "    \n",
    "    return styler\n",
    "\n",
    "def filter_cols(data, columns, new_cols):\n",
    "    data = data[columns]\n",
    "    data.columns = new_cols\n",
    "    return data"
   ]
  },
  {
   "cell_type": "code",
   "execution_count": 179,
   "metadata": {},
   "outputs": [],
   "source": [
    "lcols = [\n",
    "    'Ticker', 'spread', 'rvspread', 'Carry', 'Corr6M', 'Corr3M',\n",
    "    'Mean3Y', 'ZScore3Y', 'Min3Y', 'Max3Y', 'Rank3Y', 'PctRank3Y'\n",
    "]\n",
    "\n",
    "scols = [\n",
    "    'Ticker', 'spread', 'rvspread', 'Carry', 'Corr6M', 'Corr3M',\n",
    "    'Mean', 'ZScore', 'Min', 'Max', 'Rank', 'PctRank'\n",
    "]\n",
    "fcols = [\n",
    "    'Ticker', \"Implied Spread\", \"RVol Spread\", \"Carry\", \"6M Corr.\", \"3M Corr.\",\n",
    "    \"Mean\", \"Z-Score\", \"Min\", \"Max\", \"Rank\", \"Pct. Rank\"\n",
    "]"
   ]
  },
  {
   "cell_type": "markdown",
   "metadata": {},
   "source": [
    "### Merge"
   ]
  },
  {
   "cell_type": "code",
   "execution_count": 188,
   "metadata": {},
   "outputs": [],
   "source": [
    "def merge(items):\n",
    "    \n",
    "    html = items[0]\n",
    "    \n",
    "    for item in items[1:]:\n",
    "        html.find(\"style\").insert_after(item.find(\"style\"))\n",
    "        html.find(\"tbody\").append(item.find_all(\"tr\")[1])\n",
    "        \n",
    "    return html"
   ]
  },
  {
   "cell_type": "markdown",
   "metadata": {},
   "source": [
    "### Short Tables"
   ]
  },
  {
   "cell_type": "code",
   "execution_count": 194,
   "metadata": {},
   "outputs": [],
   "source": [
    "items = [\n",
    "    style(filter_cols(rvx_vix.copy(), scols, fcols)).hide_index().render(),\n",
    "    style(filter_cols(vxd_vix.copy(), scols, fcols)).hide_index().render(),\n",
    "    style(filter_cols(vxn_vix.copy(), scols, fcols)).hide_index().render(),\n",
    "    style(filter_cols(vix3m_vix.copy(), scols, fcols)).hide_index().render(),\n",
    "    style(filter_cols(vix6m_vix.copy(), scols, fcols)).hide_index().render(),\n",
    "    style(filter_cols(vxd_vxn.copy(), scols, fcols)).hide_index().render(),\n",
    "    style(filter_cols(rvx_vxn.copy(), scols, fcols)).hide_index().render(),\n",
    "    style(filter_cols(rvx_vxd.copy(), scols, fcols)).hide_index().render()\n",
    "]\n",
    "items = [\n",
    "    BeautifulSoup(item)\n",
    "    for item in items\n",
    "]\n",
    "html_short = merge(items)"
   ]
  },
  {
   "cell_type": "code",
   "execution_count": 195,
   "metadata": {},
   "outputs": [],
   "source": [
    "with open(\"/home/zquantz/Downloads/index.html\", \"w\") as file:\n",
    "    file.write(str(html_short))"
   ]
  },
  {
   "cell_type": "markdown",
   "metadata": {},
   "source": [
    "### Long Tables"
   ]
  },
  {
   "cell_type": "code",
   "execution_count": 199,
   "metadata": {},
   "outputs": [],
   "source": [
    "items = [\n",
    "    style(filter_cols(rvx_vix.copy(), lcols, fcols)).hide_index().render(),\n",
    "    style(filter_cols(vxd_vix.copy(), lcols, fcols)).hide_index().render(),\n",
    "    style(filter_cols(vxn_vix.copy(), lcols, fcols)).hide_index().render(),\n",
    "    style(filter_cols(vix3m_vix.copy(), lcols, fcols)).hide_index().render(),\n",
    "    style(filter_cols(vix6m_vix.copy(), lcols, fcols)).hide_index().render(),\n",
    "    style(filter_cols(vxd_vxn.copy(), lcols, fcols)).hide_index().render(),\n",
    "    style(filter_cols(rvx_vxn.copy(), lcols, fcols)).hide_index().render(),\n",
    "    style(filter_cols(rvx_vxd.copy(), lcols, fcols)).hide_index().render()\n",
    "]\n",
    "items = [\n",
    "    BeautifulSoup(item)\n",
    "    for item in items\n",
    "]\n",
    "html_long = merge(items)"
   ]
  },
  {
   "cell_type": "code",
   "execution_count": 200,
   "metadata": {},
   "outputs": [],
   "source": [
    "with open(\"/home/zquantz/Downloads/index_long.html\", \"w\") as file:\n",
    "    file.write(str(html_long))"
   ]
  },
  {
   "cell_type": "markdown",
   "metadata": {},
   "source": [
    "### Table Formatting"
   ]
  },
  {
   "cell_type": "code",
   "execution_count": 205,
   "metadata": {},
   "outputs": [],
   "source": [
    "stable = html_short.find(\"table\")\n",
    "stable.attrs['class'] = \"table table-sm table-hover\""
   ]
  },
  {
   "cell_type": "code",
   "execution_count": 206,
   "metadata": {},
   "outputs": [],
   "source": [
    "ltable = html_long.find(\"table\")\n",
    "ltable.attrs['class'] = \"table table-sm table-hover\""
   ]
  },
  {
   "cell_type": "code",
   "execution_count": 210,
   "metadata": {},
   "outputs": [],
   "source": [
    "table_styles = ''.join(\n",
    "    list(map(str, html_short.find_all(\"style\"))) + \n",
    "    list(map(str, html_long.find_all(\"style\")))\n",
    ")"
   ]
  },
  {
   "cell_type": "markdown",
   "metadata": {},
   "source": [
    "### HTML Email"
   ]
  },
  {
   "cell_type": "code",
   "execution_count": 231,
   "metadata": {},
   "outputs": [],
   "source": [
    "page = \"\"\"\n",
    "    <!DOCTYPE html>\n",
    "    <html>\n",
    "    <head>\n",
    "\n",
    "        <title>Volatility Monitor</title>\n",
    "\n",
    "        <link rel=\"stylesheet\" href=\"https://cdn.jsdelivr.net/npm/bootstrap@4.5.3/dist/css/bootstrap.min.css\" integrity=\"sha384-TX8t27EcRE3e/ihU7zmQxVncDAy5uIKz4rEkgIXeMed4M0jlfIDPvg6uqKI2xXr2\" crossorigin=\"anonymous\">\n",
    "\n",
    "        <!-- Font -->\n",
    "        <link rel=\"preconnect\" href=\"https://fonts.gstatic.com\">\n",
    "        <link href=\"https://fonts.googleapis.com/css2?family=Ubuntu&display=swap\" rel=\"stylesheet\">\n",
    "\n",
    "        <script src=\"https://code.jquery.com/jquery-3.5.1.slim.min.js\" integrity=\"sha384-DfXdz2htPH0lsSSs5nCTpuj/zy4C+OGpamoFVy38MVBnE+IbbVYUew+OrCXaRkfj\" crossorigin=\"anonymous\"></script>\n",
    "        <script src=\"https://cdn.jsdelivr.net/npm/bootstrap@4.5.3/dist/js/bootstrap.bundle.min.js\" integrity=\"sha384-ho+j7jyWK8fNQe+A12Hb8AhRq26LrZ/JpcUGGOn+Y7RsweNrtN/tE3MoK7ZeZDyx\" crossorigin=\"anonymous\"></script>\n",
    "\n",
    "    </head>\n",
    "    <body>\n",
    "\n",
    "        <style type=\"text/css\">\n",
    "\n",
    "            .jumbotron {\n",
    "                background-image: url(https://media.giphy.com/media/S8IIUwihhFu7O90I8l/giphy.gif);\n",
    "                background-size: 20rem;\n",
    "                background-repeat: no-repeat;\n",
    "                background-color: black;\n",
    "                background-position: right;\n",
    "            }\n",
    "            .jumbotronHeader {\n",
    "                font-family: 'Ubuntu', sans-serif;\n",
    "                color: white;\n",
    "                font-size: 5rem\n",
    "            }\n",
    "            .jumbotronLabel {\n",
    "                color:white;\n",
    "                font-size: 2rem;\n",
    "                font-family: 'Ubuntu', sans-serif;\n",
    "                padding-top: 1rem\n",
    "            }\n",
    "            .list-group-item.active {\n",
    "                background-color: black;\n",
    "                border-color: black;\n",
    "                color:white;\n",
    "            }\n",
    "            .statButton {\n",
    "                text-align: center;\n",
    "            }\n",
    "\n",
    "        </style>\n",
    "        TABLE_STYLES_HERE\n",
    "\n",
    "        <div class=\"container-fluid\" style=\"max-width: 50%; padding:0;\">\n",
    "\n",
    "            <div class=\"jumbotron jumbotron-fluid\" style=\"padding-left: 3rem; padding-right: 3rem\">\n",
    "\n",
    "                <div class=\"container\">\n",
    "\n",
    "                    <h1 class=\"jumbotronHeader\">\n",
    "                        <b>O p t i Q s</b>\n",
    "                    </h1>\n",
    "                    <h6 class=\"jumbotronLabel\">\n",
    "                        - Vol Monitor\n",
    "                    </h6>\n",
    "\n",
    "                </div>\n",
    "\n",
    "            </div>\n",
    "\n",
    "            <div class=\"row\" style=\"margin-right: 0; margin-left: 0; margin-bottom: 1rem; display: block; width: 30%;\">\n",
    "\n",
    "                    <div class=\"list-group list-group-horizontal\" id=\"list-tab\" role=\"tablist\">\n",
    "                        <a class=\"list-group-item list-group-item-action statButton active\" id=\"list-1ystats\" data-toggle=\"list\" href=\"#list-1y\" role=\"tab\" aria-controls=\"home\">1 Yr Stats</a>\n",
    "                        <a class=\"list-group-item list-group-item-action statButton\" id=\"list-3ystats\" data-toggle=\"list\" href=\"#list-3y\" role=\"tab\" aria-controls=\"profile\">3 Yr Stats</a>\n",
    "                    </div>\n",
    "                    \n",
    "            </div>\n",
    "            \n",
    "            <div class=\"row\" style=\"margin-right: 0rem; margin-left: 0;\">\n",
    "            \n",
    "                <div class=\"col-12-xl col-12-lg col-12-md col-12-sm\">\n",
    "                    <div class=\"tab-content\" id=\"nav-tabContent\">\n",
    "                        <div class=\"tab-pane fade show active\" id=\"list-1y\" role=\"tabpanel\" aria-labelledby=\"list-1ystats\">\n",
    "                            SHORT_TABLE_HERE\n",
    "                        </div>\n",
    "                        <div class=\"tab-pane fade\" id=\"list-3y\" role=\"tabpanel\" aria-labelledby=\"list-3ystats\">\n",
    "                            LONG_TABLE_HERE\n",
    "                        </div>\n",
    "                    </div>\n",
    "                </div>\n",
    "                \n",
    "            </div>\n",
    "\n",
    "        </div>\n",
    "\n",
    "    </body>\n",
    "    </html>\n",
    "\"\"\"\n",
    "page = page.replace(\"LONG_TABLE_HERE\", str(ltable))\n",
    "page = page.replace(\"SHORT_TABLE_HERE\", str(stable))\n",
    "page = page.replace(\"TABLE_STYLES_HERE\", str(table_styles))\n",
    "with open(\"/home/zquantz/Documents/Quant/OptionsResearch/VolDashboard/auto.html\", \"w\") as file:\n",
    "    file.write(page)"
   ]
  },
  {
   "cell_type": "code",
   "execution_count": 221,
   "metadata": {},
   "outputs": [],
   "source": []
  },
  {
   "cell_type": "code",
   "execution_count": null,
   "metadata": {},
   "outputs": [],
   "source": []
  }
 ],
 "metadata": {
  "kernelspec": {
   "display_name": "Python 3",
   "language": "python",
   "name": "python3"
  },
  "language_info": {
   "codemirror_mode": {
    "name": "ipython",
    "version": 3
   },
   "file_extension": ".py",
   "mimetype": "text/x-python",
   "name": "python",
   "nbconvert_exporter": "python",
   "pygments_lexer": "ipython3",
   "version": "3.7.6"
  }
 },
 "nbformat": 4,
 "nbformat_minor": 4
}
