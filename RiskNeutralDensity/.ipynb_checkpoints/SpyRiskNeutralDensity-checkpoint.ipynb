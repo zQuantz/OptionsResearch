{
 "cells": [
  {
   "cell_type": "code",
   "execution_count": 8,
   "metadata": {},
   "outputs": [],
   "source": [
    "from scipy.stats import norm\n",
    "import pandas as pd\n",
    "import numpy as np\n",
    "import sys, os\n",
    "\n",
    "import matplotlib.pyplot as plt\n",
    "import seaborn as sns\n",
    "sns.set_style(\"darkgrid\")"
   ]
  },
  {
   "cell_type": "code",
   "execution_count": 9,
   "metadata": {},
   "outputs": [],
   "source": [
    "def get_d2(options):\n",
    "\n",
    "    if len(options) == 0:\n",
    "        return options\n",
    "\n",
    "    o = options.copy()\n",
    "    m = o.option_type.map({\"C\" : 1, \"P\" : -1}).values\n",
    "\n",
    "    tau = o.days_to_expiry.values / 365\n",
    "    rtau = np.sqrt(tau)\n",
    "    iv = o.implied_volatility.values / 100\n",
    "    S = o.stock_price.values\n",
    "    K = o.strike_price.values\n",
    "    q = o.dividend_yield.values / 100\n",
    "    q = np.log(1 + q)\n",
    "    r = o.rate.values / 100\n",
    "    r = np.log(1 + r)\n",
    "\n",
    "    ###################################################################################################\n",
    "\n",
    "    eqt = np.exp(-q * tau)\n",
    "    kert = K * np.exp(-r * tau)\n",
    "\n",
    "    d1 = np.log(S / K)\n",
    "    d1 += (r - q + 0.5 * (iv ** 2)) * tau\n",
    "    d1 /= iv * rtau\n",
    "    d2 = d1 - iv * rtau\n",
    "\n",
    "    return d2"
   ]
  },
  {
   "cell_type": "markdown",
   "metadata": {},
   "source": [
    "### Data"
   ]
  },
  {
   "cell_type": "code",
   "execution_count": 10,
   "metadata": {},
   "outputs": [],
   "source": [
    "options = pd.read_csv(\"data/spy_options.csv\")\n",
    "fridays = pd.date_range(\"2020-01-01\", \"2025-01-01\", freq=\"WOM-3FRI\").astype(str)\n",
    "thursdays = pd.date_range(\"2020-01-01\", \"2025-01-01\", freq=\"WOM-3THU\").astype(str)\n",
    "regulars = list(fridays) + list(thursdays)\n",
    "options = options[options.expiration_date.isin(regulars)]"
   ]
  },
  {
   "cell_type": "markdown",
   "metadata": {},
   "source": [
    "### Calc D2"
   ]
  },
  {
   "cell_type": "code",
   "execution_count": 11,
   "metadata": {},
   "outputs": [
    {
     "name": "stderr",
     "output_type": "stream",
     "text": [
      "/home/zquantz/anaconda3/lib/python3.7/site-packages/ipykernel_launcher.py:26: RuntimeWarning: divide by zero encountered in true_divide\n"
     ]
    },
    {
     "data": {
      "text/plain": [
       "(4533, 32)"
      ]
     },
     "execution_count": 11,
     "metadata": {},
     "output_type": "execute_result"
    }
   ],
   "source": [
    "options['d2'] = get_d2(options)\n",
    "options['cnd2'] = norm.cdf(options.d2)\n",
    "options['pnd2'] = norm.cdf(-options.d2)\n",
    "options.shape"
   ]
  },
  {
   "cell_type": "markdown",
   "metadata": {},
   "source": [
    "### Filter Bad Entries"
   ]
  },
  {
   "cell_type": "code",
   "execution_count": 12,
   "metadata": {},
   "outputs": [],
   "source": [
    "options = options[options.bid_price != 0]\n",
    "options = options[options.ask_price != 0]\n",
    "options = options[options.implied_volatility != 0]\n",
    "options = options[abs(options.strike_price / options.stock_price - 1) <= 0.40]"
   ]
  },
  {
   "cell_type": "markdown",
   "metadata": {},
   "source": [
    "### Full Code"
   ]
  },
  {
   "cell_type": "code",
   "execution_count": 14,
   "metadata": {},
   "outputs": [
    {
     "name": "stdout",
     "output_type": "stream",
     "text": [
      "3\n",
      "31\n",
      "59\n",
      "94\n",
      "122\n",
      "150\n",
      "185\n",
      "213\n",
      "304\n",
      "395\n",
      "430\n",
      "486\n",
      "577\n",
      "668\n",
      "759\n",
      "794\n"
     ]
    }
   ],
   "source": [
    "x1max, x2max = 0, 0\n",
    "x1min, x2min = 1000, 1000\n",
    "\n",
    "for i in options.days_to_expiry.unique():\n",
    "    \n",
    "    print(i)\n",
    "    tmp = options[options.days_to_expiry == i]\n",
    "    c = tmp[tmp.option_type == \"C\"]\n",
    "    p = tmp[tmp.option_type == \"P\"]\n",
    "    \n",
    "    crncdf = [\n",
    "        c.cnd2.values[0] - c.cnd2.values[i]\n",
    "        for i in range(1, c.shape[0])\n",
    "    ]\n",
    "    crncdf = pd.Series(crncdf).rolling(3, min_periods=1, win_type=\"triang\").mean()\n",
    "    crncdf /= crncdf.max()\n",
    "\n",
    "    crncdf.name = \"F(x)\"\n",
    "    \n",
    "    prncdf = [\n",
    "        p.pnd2.values[i] - p.pnd2.values[0]\n",
    "        for i in range(1, p.shape[0])\n",
    "    ]\n",
    "    prncdf = pd.Series(prncdf).rolling(3, min_periods=1, win_type=\"triang\").mean()\n",
    "    prncdf /= prncdf.max()\n",
    "\n",
    "    prncdf.name = \"F(x)\"\n",
    "    \n",
    "    Kc = c.strike_price.reset_index(drop=True)\n",
    "    Kc.name = \"Stock Price\"\n",
    "\n",
    "    Kp = p.strike_price.reset_index(drop=True)\n",
    "    Kp.name = \"Stock Price\"\n",
    "    \n",
    "    x1max = max(x1max, Kc.max())\n",
    "    x2max = max(x2max, Kp.max())\n",
    "    \n",
    "    x1min = min(x1min, Kc.min())\n",
    "    x2min = min(x2min, Kp.min())\n",
    "    \n",
    "    f, ax = plt.subplots(2, 2, figsize=(17, 13))\n",
    "\n",
    "    sns.scatterplot(Kc, crncdf, ax=ax[0, 0])\n",
    "    sns.scatterplot(Kc, crncdf.diff(), ax=ax[0, 1])\n",
    "    ax[0, 1].set_ylabel(\"f(x)\")\n",
    "    ax[0, 1].axvline(x=options.stock_price.values[0], color=\"black\", alpha=0.5)\n",
    "\n",
    "    sns.scatterplot(Kp, prncdf, ax=ax[1, 0])\n",
    "    sns.scatterplot(Kp, prncdf.diff(), ax=ax[1, 1])\n",
    "    ax[1, 1].set_ylabel(\"f(x)\")\n",
    "    ax[1, 1].axvline(x=options.stock_price.values[0], color=\"black\", alpha=0.5)\n",
    "    \n",
    "    f.suptitle(f\"{i} Day{'s' if i > 1 else ''} to Expiration\")\n",
    "\n",
    "    ax[0, 1].set_xlim(200, 500)\n",
    "    ax[1, 1].set_xlim(200, 500)\n",
    "    \n",
    "    ax[0, 0].set_xlim(200, 500)\n",
    "    ax[1, 0].set_xlim(200, 500)\n",
    "    \n",
    "    ax[0, 1].set_ylim(0, 0.15)\n",
    "    ax[1, 1].set_ylim(0, 0.15)\n",
    "    \n",
    "    ax[0, 0].set_ylim(0, 1.05)\n",
    "    ax[1, 0].set_ylim(0, 1.05)\n",
    "    \n",
    "    ax[0, 0].set_title(\"Call Implied CDF\")\n",
    "    ax[0, 1].set_title(\"Call Implied Density\")\n",
    "    ax[1, 0].set_title(\"Put Implied CDF\")\n",
    "    ax[1, 1].set_title(\"Put Implied Density\")\n",
    "    \n",
    "    plt.savefig(f\"plots/rnd_{i}.png\")\n",
    "    plt.close()"
   ]
  },
  {
   "cell_type": "code",
   "execution_count": null,
   "metadata": {},
   "outputs": [],
   "source": []
  }
 ],
 "metadata": {
  "kernelspec": {
   "display_name": "Python 3",
   "language": "python",
   "name": "python3"
  },
  "language_info": {
   "codemirror_mode": {
    "name": "ipython",
    "version": 3
   },
   "file_extension": ".py",
   "mimetype": "text/x-python",
   "name": "python",
   "nbconvert_exporter": "python",
   "pygments_lexer": "ipython3",
   "version": "3.7.6"
  }
 },
 "nbformat": 4,
 "nbformat_minor": 4
}
