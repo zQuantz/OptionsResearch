{
 "cells": [
  {
   "cell_type": "code",
   "execution_count": 1,
   "metadata": {},
   "outputs": [],
   "source": [
    "import pandas as pd\n",
    "import numpy as np\n",
    "import sys, os\n",
    "\n",
    "import seaborn as sns\n",
    "import matplotlib.pyplot as plt"
   ]
  },
  {
   "cell_type": "markdown",
   "metadata": {},
   "source": [
    "### Raw Options "
   ]
  },
  {
   "cell_type": "code",
   "execution_count": 2,
   "metadata": {},
   "outputs": [],
   "source": [
    "raw = pd.read_csv(\"data/tsla_options.csv\")"
   ]
  },
  {
   "cell_type": "markdown",
   "metadata": {},
   "source": [
    "### Filter by Zero Bid/Ask"
   ]
  },
  {
   "cell_type": "code",
   "execution_count": 3,
   "metadata": {},
   "outputs": [
    {
     "data": {
      "text/plain": [
       "4114"
      ]
     },
     "execution_count": 3,
     "metadata": {},
     "output_type": "execute_result"
    }
   ],
   "source": [
    "raw_zba = raw[raw.bid_price + raw.bid_price != 0]\n",
    "raw_zba.option_id.nunique()"
   ]
  },
  {
   "cell_type": "markdown",
   "metadata": {},
   "source": [
    "### Filter by regular expirations"
   ]
  },
  {
   "cell_type": "code",
   "execution_count": 4,
   "metadata": {},
   "outputs": [
    {
     "data": {
      "text/plain": [
       "2553"
      ]
     },
     "execution_count": 4,
     "metadata": {},
     "output_type": "execute_result"
    }
   ],
   "source": [
    "start = \"2020-07-13\"\n",
    "end = f\"{int(start[:4]) + 4}-{start[4:]}\"\n",
    "fridays = pd.date_range(start, end, freq=\"WOM-3FRI\").astype(str)\n",
    "thursdays = pd.date_range(start, end, freq=\"WOM-3THU\").astype(str)\n",
    "regulars = list(fridays) + list(thursdays)\n",
    "raw_zbar = raw_zba[raw_zba.expiration_date.isin(regulars)]\n",
    "raw_zbar.option_id.nunique()"
   ]
  },
  {
   "cell_type": "markdown",
   "metadata": {},
   "source": [
    "### Filter by OptionID persistence"
   ]
  },
  {
   "cell_type": "code",
   "execution_count": 5,
   "metadata": {},
   "outputs": [
    {
     "data": {
      "text/plain": [
       "1261"
      ]
     },
     "execution_count": 5,
     "metadata": {},
     "output_type": "execute_result"
    }
   ],
   "source": [
    "num_days = raw_zbar.date_current.nunique()\n",
    "oids = raw_zbar.option_id.value_counts()\n",
    "oids = oids[oids == num_days]\n",
    "raw_zbarp = raw_zbar[raw_zbar.option_id.isin(oids.index)]\n",
    "raw_zbarp.option_id.nunique()"
   ]
  },
  {
   "cell_type": "markdown",
   "metadata": {},
   "source": [
    "### Filter by volume cutoff"
   ]
  },
  {
   "cell_type": "code",
   "execution_count": 6,
   "metadata": {},
   "outputs": [],
   "source": [
    "before = raw_zbarp.option_id.nunique()"
   ]
  },
  {
   "cell_type": "code",
   "execution_count": 7,
   "metadata": {},
   "outputs": [
    {
     "data": {
      "text/plain": [
       "(1261, 934)"
      ]
     },
     "execution_count": 7,
     "metadata": {},
     "output_type": "execute_result"
    }
   ],
   "source": [
    "cutoff = raw_zbarp.volume.quantile(0.30)\n",
    "def byid(oid):\n",
    "    med = oid.volume.median()\n",
    "    if med >= cutoff:\n",
    "        return oid\n",
    "raw_zbarpv = raw_zbarp.groupby('option_id').apply(byid).dropna()\n",
    "before, raw_zbarpv.option_id.nunique()"
   ]
  },
  {
   "cell_type": "markdown",
   "metadata": {},
   "source": [
    "### Filter by regular expirations"
   ]
  },
  {
   "cell_type": "code",
   "execution_count": 8,
   "metadata": {},
   "outputs": [],
   "source": [
    "start = \"2020-07-13\"\n",
    "end = f\"{int(start[:4]) + 4}-{start[4:]}\"\n",
    "fridays = pd.date_range(start, end, freq=\"WOM-3FRI\").astype(str)\n",
    "thursdays = pd.date_range(start, end, freq=\"WOM-3THU\").astype(str)\n",
    "regulars = list(fridays) + list(thursdays)"
   ]
  },
  {
   "cell_type": "code",
   "execution_count": 9,
   "metadata": {},
   "outputs": [
    {
     "data": {
      "text/plain": [
       "(934, 934)"
      ]
     },
     "execution_count": 9,
     "metadata": {},
     "output_type": "execute_result"
    }
   ],
   "source": [
    "raw_zbarpvr = raw_zbarpv[raw_zbarpv.expiration_date.isin(regulars)]\n",
    "raw_zbarpv.option_id.nunique(), raw_zbarpvr.option_id.nunique()"
   ]
  },
  {
   "cell_type": "markdown",
   "metadata": {},
   "source": [
    "### Save"
   ]
  },
  {
   "cell_type": "code",
   "execution_count": 10,
   "metadata": {},
   "outputs": [],
   "source": [
    "raw_zbarpvr.to_csv(\"data/filtered_tsla_options.csv\", index=False)"
   ]
  },
  {
   "cell_type": "code",
   "execution_count": null,
   "metadata": {},
   "outputs": [],
   "source": []
  }
 ],
 "metadata": {
  "kernelspec": {
   "display_name": "Python 3",
   "language": "python",
   "name": "python3"
  },
  "language_info": {
   "codemirror_mode": {
    "name": "ipython",
    "version": 3
   },
   "file_extension": ".py",
   "mimetype": "text/x-python",
   "name": "python",
   "nbconvert_exporter": "python",
   "pygments_lexer": "ipython3",
   "version": "3.7.6"
  }
 },
 "nbformat": 4,
 "nbformat_minor": 4
}
