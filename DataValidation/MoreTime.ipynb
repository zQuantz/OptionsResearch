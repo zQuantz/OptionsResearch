{
 "cells": [
  {
   "cell_type": "code",
   "execution_count": 1,
   "metadata": {},
   "outputs": [],
   "source": [
    "from scipy.stats import norm\n",
    "\n",
    "import matplotlib.pyplot as plt\n",
    "import seaborn as sns\n",
    "\n",
    "import pandas as pd\n",
    "import numpy as np\n",
    "import sys, os\n",
    "\n",
    "greek_cols = [\n",
    "\t'delta',\n",
    "\t'gamma',\n",
    "\t'theta',\n",
    "\t'vega',\n",
    "\t'rho',\n",
    "\t'vanna',\n",
    "\t'vomma',\n",
    "\t'charm',\n",
    "\t'veta',\n",
    "\t'speed',\n",
    "\t'zomma',\n",
    "\t'color',\n",
    "\t'ultima'\n",
    "]"
   ]
  },
  {
   "cell_type": "markdown",
   "metadata": {},
   "source": [
    "### Data"
   ]
  },
  {
   "cell_type": "code",
   "execution_count": 20,
   "metadata": {},
   "outputs": [],
   "source": [
    "df = pd.read_csv(\"data/data_validation_python.csv\")\n",
    "raw = df.iloc[:, :18]"
   ]
  },
  {
   "cell_type": "markdown",
   "metadata": {},
   "source": [
    "### More Precise Time"
   ]
  },
  {
   "cell_type": "code",
   "execution_count": 21,
   "metadata": {},
   "outputs": [],
   "source": [
    "dc = raw.date_current + \" 17:00:00\"\n",
    "ed = raw.expiration_date + \" 17:00:00\""
   ]
  },
  {
   "cell_type": "code",
   "execution_count": 22,
   "metadata": {},
   "outputs": [],
   "source": [
    "nraw = raw.copy()\n",
    "nraw['days_to_expiry'] = (pd.to_datetime(ed) - pd.to_datetime(dc)).dt.days"
   ]
  },
  {
   "cell_type": "markdown",
   "metadata": {},
   "source": [
    "### Greeks"
   ]
  },
  {
   "cell_type": "code",
   "execution_count": 23,
   "metadata": {},
   "outputs": [],
   "source": [
    "def calculate_greeks(options):\n",
    "\n",
    "\tif len(options) == 0:\n",
    "\t\treturn options\n",
    "\n",
    "\to = options.copy()\n",
    "\tm = o.option_type.map({\"C\" : 1, \"P\" : -1}).values\n",
    "\n",
    "\ttau = o.days_to_expiry.values / 365\n",
    "\trtau = np.sqrt(tau)\n",
    "\tiv = o.implied_volatility.values / 100\n",
    "\tS = o.stock_price.values\n",
    "\tK = o.strike_price.values\n",
    "\tq = o.dividend_yield.values / 100\n",
    "\tr = o.rate.values / 100\n",
    "\n",
    "\t###################################################################################################\n",
    "\n",
    "\teqt = np.exp(-q * tau)\n",
    "\tkert = K * np.exp(-r * tau)\n",
    "\n",
    "\td1 = np.log(S / K)\n",
    "\td1 += (r - q + 0.5 * (iv ** 2)) * tau\n",
    "\td1 /= iv * rtau\n",
    "\td2 = d1 - iv * rtau\n",
    "\n",
    "\tnpd1 = norm.pdf(d1)\n",
    "\tncd1 = norm.cdf(m * d1)\n",
    "\tncd2 = norm.cdf(m * d2)\n",
    "\n",
    "\t###################################################################################################\n",
    "\n",
    "\tdelta = m * eqt * ncd1\n",
    "\n",
    "\tgamma = np.exp(q - r) * npd1\n",
    "\tgamma /= (S * iv * rtau)\n",
    "\n",
    "\tvega = S * eqt * npd1 * rtau\t\n",
    "\tvega /= 100\n",
    "\n",
    "\trho = m * tau * kert * ncd2\n",
    "\trho /= 100\n",
    "\n",
    "\ttheta = (S * norm.pdf(m * d1) * iv)\n",
    "\ttheta *= -eqt / (2 * rtau)\n",
    "\ttheta -= m * r * kert * ncd2\n",
    "\ttheta += m * q * S * eqt * ncd1\n",
    "\ttheta /= 365\n",
    "\n",
    "\t###################################################################################################\n",
    "\n",
    "\tvanna = (vega / S)\n",
    "\tvanna *= (1 - d1 / (iv * rtau))\n",
    "\n",
    "\tvomma = (vega / iv) * (d1 * d2)\n",
    "\n",
    "\tcharm = 2 * (r - q) * tau - d2 * iv * rtau\n",
    "\tcharm /= 2 * tau * iv * rtau\n",
    "\tcharm *= eqt * npd1\n",
    "\tcharm = m * q * eqt * ncd1 - charm\n",
    "\tcharm /= 365\n",
    "\n",
    "\tveta = q.copy()\n",
    "\tveta += ((r - q) * d1) / (iv * rtau)\n",
    "\tveta -= (1 + d1 * d2) / (2 * tau)\n",
    "\tveta *= -S * eqt * npd1 * rtau\n",
    "\tveta /= 365 * 100\n",
    "\n",
    "\tspeed = 1\n",
    "\tspeed += d1 / (iv * rtau)\n",
    "\tspeed *= -gamma / S\n",
    "\n",
    "\tzomma = (d1 * d2 - 1) / iv\n",
    "\tzomma *= gamma\n",
    "\n",
    "\tcolor = 2 * (r - q) * tau\n",
    "\tcolor -= d2 * iv * rtau\n",
    "\tcolor *= d1 / (iv * rtau)\n",
    "\tcolor += 2 * q * tau + 1\n",
    "\tcolor *= -eqt * npd1 / (2 * S * tau * iv * rtau)\n",
    "\tcolor /= 365\n",
    "\n",
    "\tultima = d1 * d2 * (1 - d1 * d2) + d1 * d1 + d2 * d2\n",
    "\tultima *= -vega / (iv * iv)\n",
    "\n",
    "\t###################################################################################################\n",
    "\n",
    "\toptions['delta'] = delta\n",
    "\toptions['gamma'] = gamma\n",
    "\toptions['theta'] = theta\n",
    "\toptions['vega'] = vega\n",
    "\toptions['rho'] = rho\n",
    "\n",
    "\toptions['vanna'] = vanna\n",
    "\toptions['vomma'] = vomma\n",
    "\toptions['charm'] = charm\n",
    "\toptions['veta'] = veta\n",
    "\toptions['speed'] = speed\n",
    "\toptions['zomma'] = zomma\n",
    "\toptions['color'] = color\n",
    "\toptions['ultima'] = ultima\n",
    "\n",
    "\t###################################################################################################\n",
    "\n",
    "\toptions.loc[:, greek_cols] = options[greek_cols].replace([-np.inf, np.inf], np.nan)\n",
    "\toptions.loc[:, greek_cols] = options[greek_cols].round(6).fillna(0)\n",
    "\toptions = options.sort_values([\"date_current\", \"option_type\"], ascending=True)\n",
    "\n",
    "\treturn options"
   ]
  },
  {
   "cell_type": "code",
   "execution_count": 24,
   "metadata": {},
   "outputs": [],
   "source": [
    "raw = calculate_greeks(raw)\n",
    "nraw = calculate_greeks(nraw)"
   ]
  },
  {
   "cell_type": "markdown",
   "metadata": {},
   "source": [
    "### Comparison"
   ]
  },
  {
   "cell_type": "code",
   "execution_count": 27,
   "metadata": {},
   "outputs": [
    {
     "data": {
      "image/png": "[encoded data removed]",
      "text/plain": [
       "<Figure size 432x288 with 1 Axes>"
      ]
     },
     "metadata": {
      "needs_background": "light"
     },
     "output_type": "display_data"
    }
   ],
   "source": [
    "greek = 'delta'\n",
    "tmp = pd.DataFrame()\n",
    "tmp['New'] = nraw[greek]\n",
    "tmp['Old'] = raw[greek]\n",
    "plt.hist(tmp.New - tmp.Old, bins=100)\n",
    "plt.show()"
   ]
  },
  {
   "cell_type": "code",
   "execution_count": 28,
   "metadata": {},
   "outputs": [
    {
     "data": {
      "image/png": "[encoded data removed]",
      "text/plain": [
       "<Figure size 432x288 with 1 Axes>"
      ]
     },
     "metadata": {
      "needs_background": "light"
     },
     "output_type": "display_data"
    }
   ],
   "source": [
    "greek = 'gamma'\n",
    "tmp = pd.DataFrame()\n",
    "tmp['New'] = nraw[greek]\n",
    "tmp['Old'] = raw[greek]\n",
    "plt.hist(tmp.New - tmp.Old, bins=100)\n",
    "plt.show()"
   ]
  },
  {
   "cell_type": "code",
   "execution_count": 29,
   "metadata": {},
   "outputs": [
    {
     "data": {
      "image/png": "[encoded data removed]",
      "text/plain": [
       "<Figure size 432x288 with 1 Axes>"
      ]
     },
     "metadata": {
      "needs_background": "light"
     },
     "output_type": "display_data"
    }
   ],
   "source": [
    "greek = 'theta'\n",
    "tmp = pd.DataFrame()\n",
    "tmp['New'] = nraw[greek]\n",
    "tmp['Old'] = raw[greek]\n",
    "plt.hist(tmp.New - tmp.Old, bins=100)\n",
    "plt.show()"
   ]
  },
  {
   "cell_type": "code",
   "execution_count": 30,
   "metadata": {},
   "outputs": [
    {
     "data": {
      "image/png": "[encoded data removed]",
      "text/plain": [
       "<Figure size 432x288 with 1 Axes>"
      ]
     },
     "metadata": {
      "needs_background": "light"
     },
     "output_type": "display_data"
    }
   ],
   "source": [
    "greek = 'vega'\n",
    "tmp = pd.DataFrame()\n",
    "tmp['New'] = nraw[greek]\n",
    "tmp['Old'] = raw[greek]\n",
    "plt.hist(tmp.New - tmp.Old, bins=100)\n",
    "plt.show()"
   ]
  },
  {
   "cell_type": "code",
   "execution_count": 31,
   "metadata": {},
   "outputs": [
    {
     "data": {
      "image/png": "[encoded data removed]",
      "text/plain": [
       "<Figure size 432x288 with 1 Axes>"
      ]
     },
     "metadata": {
      "needs_background": "light"
     },
     "output_type": "display_data"
    }
   ],
   "source": [
    "greek = 'rho'\n",
    "tmp = pd.DataFrame()\n",
    "tmp['New'] = nraw[greek]\n",
    "tmp['Old'] = raw[greek]\n",
    "plt.hist(tmp.New - tmp.Old, bins=100)\n",
    "plt.show()"
   ]
  },
  {
   "cell_type": "code",
   "execution_count": 32,
   "metadata": {},
   "outputs": [
    {
     "data": {
      "image/png": "[encoded data removed]",
      "text/plain": [
       "<Figure size 432x288 with 1 Axes>"
      ]
     },
     "metadata": {
      "needs_background": "light"
     },
     "output_type": "display_data"
    }
   ],
   "source": [
    "greek = 'vomma'\n",
    "tmp = pd.DataFrame()\n",
    "tmp['New'] = nraw[greek]\n",
    "tmp['Old'] = raw[greek]\n",
    "plt.hist(tmp.New - tmp.Old, bins=100)\n",
    "plt.show()"
   ]
  },
  {
   "cell_type": "code",
   "execution_count": 33,
   "metadata": {},
   "outputs": [
    {
     "data": {
      "image/png": "[encoded data removed]",
      "text/plain": [
       "<Figure size 432x288 with 1 Axes>"
      ]
     },
     "metadata": {
      "needs_background": "light"
     },
     "output_type": "display_data"
    }
   ],
   "source": [
    "greek = 'charm'\n",
    "tmp = pd.DataFrame()\n",
    "tmp['New'] = nraw[greek]\n",
    "tmp['Old'] = raw[greek]\n",
    "plt.hist(tmp.New - tmp.Old, bins=100)\n",
    "plt.show()"
   ]
  },
  {
   "cell_type": "code",
   "execution_count": 34,
   "metadata": {},
   "outputs": [
    {
     "data": {
      "image/png": "[encoded data removed]",
      "text/plain": [
       "<Figure size 432x288 with 1 Axes>"
      ]
     },
     "metadata": {
      "needs_background": "light"
     },
     "output_type": "display_data"
    }
   ],
   "source": [
    "greek = 'vanna'\n",
    "tmp = pd.DataFrame()\n",
    "tmp['New'] = nraw[greek]\n",
    "tmp['Old'] = raw[greek]\n",
    "plt.hist(tmp.New - tmp.Old, bins=100)\n",
    "plt.show()"
   ]
  },
  {
   "cell_type": "code",
   "execution_count": 35,
   "metadata": {},
   "outputs": [
    {
     "data": {
      "image/png": "[encoded data removed]",
      "text/plain": [
       "<Figure size 432x288 with 1 Axes>"
      ]
     },
     "metadata": {
      "needs_background": "light"
     },
     "output_type": "display_data"
    }
   ],
   "source": [
    "greek = 'color'\n",
    "tmp = pd.DataFrame()\n",
    "tmp['New'] = nraw[greek]\n",
    "tmp['Old'] = raw[greek]\n",
    "plt.hist(tmp.New - tmp.Old, bins=100)\n",
    "plt.show()"
   ]
  },
  {
   "cell_type": "code",
   "execution_count": 36,
   "metadata": {},
   "outputs": [
    {
     "data": {
      "image/png": "[encoded data removed]",
      "text/plain": [
       "<Figure size 432x288 with 1 Axes>"
      ]
     },
     "metadata": {
      "needs_background": "light"
     },
     "output_type": "display_data"
    }
   ],
   "source": [
    "greek = 'ultima'\n",
    "tmp = pd.DataFrame()\n",
    "tmp['New'] = nraw[greek]\n",
    "tmp['Old'] = raw[greek]\n",
    "plt.hist(tmp.New - tmp.Old, bins=100)\n",
    "plt.show()"
   ]
  },
  {
   "cell_type": "markdown",
   "metadata": {},
   "source": [
    "### Check BBG"
   ]
  },
  {
   "cell_type": "code",
   "execution_count": 37,
   "metadata": {},
   "outputs": [
    {
     "data": {
      "text/plain": [
       "Index(['date_current', 'ticker', 'expiration_date', 'days_to_expiry',\n",
       "       'option_id', 'option_type', 'strike_price', 'bid_price', 'option_price',\n",
       "       'mid_price', 'ask_price', 'implied_volatility', 'volume',\n",
       "       'open_interest', 'stock_price', 'dividend_yield', 'rate', 'delta',\n",
       "       'gamma', 'theta', 'vega', 'rho', 'vanna', 'vomma', 'charm', 'veta',\n",
       "       'speed', 'zomma', 'color', 'ultima', 'mnyness', 'last', 'bid', 'mid',\n",
       "       'ask', 'implied vol using last trade price',\n",
       "       'volume, if no volume traded field will display most recent volume on whatever day it last traded',\n",
       "       'DELTA_MID', 'GAMMA_LAST', 'THETA_LAST', 'VEGA_LAST', 'RHO_LAST',\n",
       "       'Stock Price'],\n",
       "      dtype='object')"
      ]
     },
     "execution_count": 37,
     "metadata": {},
     "output_type": "execute_result"
    }
   ],
   "source": [
    "df.columns"
   ]
  },
  {
   "cell_type": "code",
   "execution_count": 53,
   "metadata": {},
   "outputs": [],
   "source": [
    "bbg = df.DELTA_MID.str.replace(\"%\", \"\").astype(float) / 100\n",
    "yh1 = raw.delta\n",
    "yh2 = nraw.delta"
   ]
  },
  {
   "cell_type": "code",
   "execution_count": 54,
   "metadata": {},
   "outputs": [
    {
     "data": {
      "text/plain": [
       "0.24795666265700544"
      ]
     },
     "execution_count": 54,
     "metadata": {},
     "output_type": "execute_result"
    }
   ],
   "source": [
    "((bbg - yh1) ** 2).sum() ** 0.5"
   ]
  },
  {
   "cell_type": "code",
   "execution_count": 55,
   "metadata": {},
   "outputs": [
    {
     "data": {
      "text/plain": [
       "0.2880396368193101"
      ]
     },
     "execution_count": 55,
     "metadata": {},
     "output_type": "execute_result"
    }
   ],
   "source": [
    "((bbg - yh2) ** 2).sum() ** 0.5"
   ]
  },
  {
   "cell_type": "code",
   "execution_count": 62,
   "metadata": {},
   "outputs": [],
   "source": [
    "bbg = df.VEGA_LAST\n",
    "yh1 = raw.vega\n",
    "yh2 = nraw.vega"
   ]
  },
  {
   "cell_type": "code",
   "execution_count": 63,
   "metadata": {},
   "outputs": [
    {
     "data": {
      "text/plain": [
       "0.22157174025358015"
      ]
     },
     "execution_count": 63,
     "metadata": {},
     "output_type": "execute_result"
    }
   ],
   "source": [
    "((bbg - yh1) ** 2).sum() ** 0.5"
   ]
  },
  {
   "cell_type": "code",
   "execution_count": 64,
   "metadata": {},
   "outputs": [
    {
     "data": {
      "text/plain": [
       "0.23586901055034765"
      ]
     },
     "execution_count": 64,
     "metadata": {},
     "output_type": "execute_result"
    }
   ],
   "source": [
    "((bbg - yh2) ** 2).sum() ** 0.5"
   ]
  },
  {
   "cell_type": "code",
   "execution_count": 65,
   "metadata": {},
   "outputs": [],
   "source": [
    "bbg = df.THETA_LAST\n",
    "yh1 = raw.vega\n",
    "yh2 = nraw.vega"
   ]
  },
  {
   "cell_type": "code",
   "execution_count": 66,
   "metadata": {},
   "outputs": [
    {
     "data": {
      "text/plain": [
       "13.825587530410887"
      ]
     },
     "execution_count": 66,
     "metadata": {},
     "output_type": "execute_result"
    }
   ],
   "source": [
    "((bbg - yh1) ** 2).sum() ** 0.5"
   ]
  },
  {
   "cell_type": "code",
   "execution_count": 67,
   "metadata": {},
   "outputs": [
    {
     "data": {
      "text/plain": [
       "13.929026293520053"
      ]
     },
     "execution_count": 67,
     "metadata": {},
     "output_type": "execute_result"
    }
   ],
   "source": [
    "((bbg - yh2) ** 2).sum() ** 0.5"
   ]
  },
  {
   "cell_type": "code",
   "execution_count": null,
   "metadata": {},
   "outputs": [],
   "source": []
  }
 ],
 "metadata": {
  "kernelspec": {
   "display_name": "Python 3",
   "language": "python",
   "name": "python3"
  },
  "language_info": {
   "codemirror_mode": {
    "name": "ipython",
    "version": 3
   },
   "file_extension": ".py",
   "mimetype": "text/x-python",
   "name": "python",
   "nbconvert_exporter": "python",
   "pygments_lexer": "ipython3",
   "version": "3.7.6"
  }
 },
 "nbformat": 4,
 "nbformat_minor": 4
}
