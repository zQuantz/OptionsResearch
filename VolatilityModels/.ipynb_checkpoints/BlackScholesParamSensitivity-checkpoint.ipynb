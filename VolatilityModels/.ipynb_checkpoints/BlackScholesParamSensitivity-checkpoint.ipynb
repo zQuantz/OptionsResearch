{
 "cells": [
  {
   "cell_type": "code",
   "execution_count": 1,
   "metadata": {},
   "outputs": [],
   "source": [
    "import pandas as pd\n",
    "import numpy as np\n",
    "import sys, os\n",
    "\n",
    "import matplotlib.pyplot as plt\n",
    "import seaborn as sns\n",
    "sns.set_style(\"darkgrid\")\n",
    "from scipy.stats import norm"
   ]
  },
  {
   "cell_type": "markdown",
   "metadata": {},
   "source": [
    "### Data"
   ]
  },
  {
   "cell_type": "code",
   "execution_count": 20,
   "metadata": {},
   "outputs": [],
   "source": [
    "df = pd.read_csv(\"data/tsla_options.csv\")\n",
    "df['days_to_expiry'] = df.days_to_expiry + 1\n",
    "df['mid_price'] = ((df.bid_price + df.ask_price) * 0.5).values"
   ]
  },
  {
   "cell_type": "markdown",
   "metadata": {},
   "source": [
    "### Newton's Method"
   ]
  },
  {
   "cell_type": "code",
   "execution_count": 4,
   "metadata": {},
   "outputs": [],
   "source": [
    "def blackscholes(S, K, T, v, r, q, t):\n",
    "    \n",
    "    d1 = np.log(S / K) + (r - q + v * v * 0.5) * T\n",
    "    d1 /= v * np.sqrt(T)\n",
    "    d2 = d1 - v * np.sqrt(T)\n",
    "    \n",
    "    price = t * S * np.exp(-q * T) * norm.cdf(t * d1)\n",
    "    price -= t * K * np.exp(-r * T) * norm.cdf(t * d2)\n",
    "    \n",
    "    return price\n",
    "\n",
    "def vega(S, K, T, v, r, q, t):\n",
    "    \n",
    "    d1 = np.log(S / K) + (r - q + v * v * 0.5) * T\n",
    "    d1 /= v * np.sqrt(T)\n",
    "    \n",
    "    return S * np.exp(-q * T) * norm.pdf(d1) * np.sqrt(T)"
   ]
  },
  {
   "cell_type": "markdown",
   "metadata": {},
   "source": [
    "### Params"
   ]
  },
  {
   "cell_type": "code",
   "execution_count": 21,
   "metadata": {},
   "outputs": [],
   "source": [
    "M = df.mid_price\n",
    "L = df.option_price.values\n",
    "S = df.stock_price.values\n",
    "K = df.strike_price.values\n",
    "T = df.days_to_expiry.values / 365\n",
    "v = df.implied_volatility.values / 100\n",
    "r = df.rate.values\n",
    "q = df.dividend_yield.values / 100\n",
    "t = df.option_type.map({\"C\" : 1, \"P\" : -1})"
   ]
  },
  {
   "cell_type": "markdown",
   "metadata": {},
   "source": [
    "### Rate Sensitivity"
   ]
  },
  {
   "cell_type": "code",
   "execution_count": 6,
   "metadata": {},
   "outputs": [],
   "source": [
    "def solve(r):\n",
    "    \n",
    "    v = pd.Series([0.5]*len(df))\n",
    "\n",
    "    for i in range(20):\n",
    "\n",
    "        e = (blackscholes(S, K, T, v, r, q, t) - M) / vega(S, K, T, v, r, q, t)\n",
    "        v = v - e\n",
    "        \n",
    "    return v"
   ]
  },
  {
   "cell_type": "code",
   "execution_count": 7,
   "metadata": {},
   "outputs": [
    {
     "name": "stdout",
     "output_type": "stream",
     "text": [
      "Solving 0\n"
     ]
    },
    {
     "name": "stderr",
     "output_type": "stream",
     "text": [
      "/home/zquantz/anaconda3/lib/python3.7/site-packages/scipy/stats/_distn_infrastructure.py:903: RuntimeWarning: invalid value encountered in greater\n",
      "  return (a < x) & (x < b)\n",
      "/home/zquantz/anaconda3/lib/python3.7/site-packages/scipy/stats/_distn_infrastructure.py:903: RuntimeWarning: invalid value encountered in less\n",
      "  return (a < x) & (x < b)\n",
      "/home/zquantz/anaconda3/lib/python3.7/site-packages/scipy/stats/_distn_infrastructure.py:1827: RuntimeWarning: invalid value encountered in greater_equal\n",
      "  cond2 = (x >= np.asarray(_b)) & cond0\n",
      "/home/zquantz/anaconda3/lib/python3.7/site-packages/scipy/stats/_distn_infrastructure.py:899: RuntimeWarning: invalid value encountered in greater_equal\n",
      "  return (a <= x) & (x <= b)\n",
      "/home/zquantz/anaconda3/lib/python3.7/site-packages/scipy/stats/_distn_infrastructure.py:899: RuntimeWarning: invalid value encountered in less_equal\n",
      "  return (a <= x) & (x <= b)\n"
     ]
    },
    {
     "name": "stdout",
     "output_type": "stream",
     "text": [
      "Solving 1\n",
      "Solving 2\n",
      "Solving 3\n",
      "Solving 4\n",
      "Solving 5\n",
      "Solving 6\n",
      "Solving 7\n",
      "Solving 8\n",
      "Solving 9\n",
      "Solving 10\n",
      "Solving 11\n",
      "Solving 12\n",
      "Solving 13\n",
      "Solving 14\n",
      "Solving 15\n",
      "Solving 16\n",
      "Solving 17\n",
      "Solving 18\n",
      "Solving 19\n",
      "Solving 20\n",
      "Solving 21\n",
      "Solving 22\n",
      "Solving 23\n",
      "Solving 24\n",
      "Solving 25\n",
      "Solving 26\n",
      "Solving 27\n",
      "Solving 28\n",
      "Solving 29\n",
      "Solving 30\n",
      "Solving 31\n",
      "Solving 32\n",
      "Solving 33\n",
      "Solving 34\n",
      "Solving 35\n",
      "Solving 36\n",
      "Solving 37\n",
      "Solving 38\n",
      "Solving 39\n",
      "Solving 40\n",
      "Solving 41\n",
      "Solving 42\n",
      "Solving 43\n",
      "Solving 44\n",
      "Solving 45\n",
      "Solving 46\n",
      "Solving 47\n",
      "Solving 48\n",
      "Solving 49\n",
      "Solving 50\n",
      "Solving 51\n",
      "Solving 52\n",
      "Solving 53\n",
      "Solving 54\n",
      "Solving 55\n",
      "Solving 56\n",
      "Solving 57\n",
      "Solving 58\n",
      "Solving 59\n",
      "Solving 60\n",
      "Solving 61\n",
      "Solving 62\n",
      "Solving 63\n",
      "Solving 64\n",
      "Solving 65\n",
      "Solving 66\n",
      "Solving 67\n",
      "Solving 68\n",
      "Solving 69\n",
      "Solving 70\n",
      "Solving 71\n",
      "Solving 72\n",
      "Solving 73\n",
      "Solving 74\n",
      "Solving 75\n",
      "Solving 76\n",
      "Solving 77\n",
      "Solving 78\n",
      "Solving 79\n",
      "Solving 80\n",
      "Solving 81\n",
      "Solving 82\n",
      "Solving 83\n",
      "Solving 84\n",
      "Solving 85\n",
      "Solving 86\n",
      "Solving 87\n",
      "Solving 88\n",
      "Solving 89\n",
      "Solving 90\n",
      "Solving 91\n",
      "Solving 92\n",
      "Solving 93\n",
      "Solving 94\n",
      "Solving 95\n",
      "Solving 96\n",
      "Solving 97\n",
      "Solving 98\n",
      "Solving 99\n"
     ]
    }
   ],
   "source": [
    "vols = []\n",
    "rates = []\n",
    "\n",
    "for i in range(100):\n",
    "    \n",
    "    print(\"Solving\", i)\n",
    "    \n",
    "    vols.append(solve(r + 0.005 * i))\n",
    "    rates.append(r + 0.005 * i)"
   ]
  },
  {
   "cell_type": "code",
   "execution_count": 8,
   "metadata": {},
   "outputs": [],
   "source": [
    "data = pd.DataFrame()\n",
    "for i, (vol, rate) in enumerate(zip(vols, rates)):\n",
    "    data[f'v{i}'] = vol\n",
    "    data[f'r{i}'] = rate"
   ]
  },
  {
   "cell_type": "code",
   "execution_count": 9,
   "metadata": {},
   "outputs": [],
   "source": [
    "rv = data.iloc[4000, :]\n",
    "_rates = rv.values[1::2]\n",
    "_vols = rv.values[0::2]"
   ]
  },
  {
   "cell_type": "code",
   "execution_count": 10,
   "metadata": {},
   "outputs": [
    {
     "data": {
      "image/png": "[encoded data removed]",
      "text/plain": [
       "<Figure size 1008x648 with 1 Axes>"
      ]
     },
     "metadata": {},
     "output_type": "display_data"
    }
   ],
   "source": [
    "data = pd.DataFrame()\n",
    "data['Rate'] = _rates\n",
    "data['Implied Vol'] = _vols\n",
    "plt.figure(figsize=(14, 9))\n",
    "sns.scatterplot('Rate', 'Implied Vol', data=data)\n",
    "plt.title(\"Implied Volatility vs Interest Rate\")\n",
    "plt.savefig(\"plots/rates_vs_iv.png\")"
   ]
  },
  {
   "cell_type": "code",
   "execution_count": 11,
   "metadata": {},
   "outputs": [
    {
     "data": {
      "image/png": "[encoded data removed]",
      "text/plain": [
       "<Figure size 1008x648 with 1 Axes>"
      ]
     },
     "metadata": {},
     "output_type": "display_data"
    }
   ],
   "source": [
    "data = pd.DataFrame()\n",
    "data['Rate'] = _rates\n",
    "data['Implied Vol'] = _vols\n",
    "plt.figure(figsize=(14, 9))\n",
    "sns.scatterplot('Rate', 'Implied Vol', data=data)\n",
    "plt.title(\"Implied Volatility vs Interest Rate\")\n",
    "plt.xlim(0, 0.23)\n",
    "plt.ylim(0.7, 0.91)\n",
    "plt.savefig(\"plots/rates_vs_iv_zoom.png\")"
   ]
  },
  {
   "cell_type": "markdown",
   "metadata": {},
   "source": [
    "### Calendar Days vs Trading Days "
   ]
  },
  {
   "cell_type": "code",
   "execution_count": 12,
   "metadata": {},
   "outputs": [],
   "source": [
    "import pandas_market_calendars as mcal\n",
    "nyse = mcal.get_calendar('NYSE')\n",
    "early = nyse.schedule(start_date='2012-07-01', end_date='2012-07-10')"
   ]
  },
  {
   "cell_type": "code",
   "execution_count": 13,
   "metadata": {},
   "outputs": [],
   "source": [
    "date_pairs = df[['date_current', 'expiration_date']].drop_duplicates()\n",
    "date_pairs['trading_days_to_expiry'] = date_pairs.apply(lambda x: nyse.schedule(start_date=x.date_current, end_date=x.expiration_date).shape[0], axis=1)\n",
    "df = df.merge(date_pairs, on=['date_current', 'expiration_date'])"
   ]
  },
  {
   "cell_type": "code",
   "execution_count": 15,
   "metadata": {},
   "outputs": [],
   "source": [
    "M = ((df.bid_price + df.ask_price) * 0.5).values\n",
    "L = df.option_price.values\n",
    "S = df.stock_price.values\n",
    "K = df.strike_price.values\n",
    "T = df.days_to_expiry.values / 365\n",
    "TT = df.trading_days_to_expiry.values / 252\n",
    "v = df.implied_volatility.values / 100\n",
    "r = df.rate.values\n",
    "q = df.dividend_yield.values / 100\n",
    "t = df.option_type.map({\"C\" : 1, \"P\" : -1})"
   ]
  },
  {
   "cell_type": "code",
   "execution_count": 17,
   "metadata": {},
   "outputs": [
    {
     "data": {
      "image/png": "[encoded data removed]",
      "text/plain": [
       "<Figure size 1008x648 with 1 Axes>"
      ]
     },
     "metadata": {},
     "output_type": "display_data"
    }
   ],
   "source": [
    "tmp = pd.DataFrame()\n",
    "tmp['Trading Days'] = TT\n",
    "tmp['Calendar Days'] = T\n",
    "plt.figure(figsize=(14, 9))\n",
    "sns.scatterplot('Trading Days', 'Calendar Days', data=tmp)\n",
    "plt.title(\"Trading vs Calendar Days\")\n",
    "plt.savefig(\"plots/trading_vs_calendar_days.png\")"
   ]
  },
  {
   "cell_type": "markdown",
   "metadata": {},
   "source": [
    "### Forward Price vs Spot Price"
   ]
  },
  {
   "cell_type": "code",
   "execution_count": 32,
   "metadata": {},
   "outputs": [],
   "source": [
    "cols = ['date_current', 'expiration_date', 'strike_price', 'rate', 'days_to_expiry','mid_price', 'option_type']\n",
    "tmp = df[cols]\n",
    "tmp = tmp[tmp.option_type == 'C'].merge(tmp[tmp.option_type == 'P'], on=cols[:5])"
   ]
  },
  {
   "cell_type": "code",
   "execution_count": 41,
   "metadata": {},
   "outputs": [
    {
     "name": "stdout",
     "output_type": "stream",
     "text": [
      "0.9050000000000011 80\n",
      "0.33999999999999986 85\n",
      "0.6350000000000051 85\n",
      "0.7349999999999994 74\n",
      "0.4799999999999969 54\n",
      "0.7899999999999991 79\n",
      "10.019999999999996 12\n",
      "0.9399999999999977 45\n",
      "0.9699999999999989 43\n",
      "0.8300000000000125 36\n",
      "0.9200000000000159 30\n",
      "0.950000000000017 45\n",
      "0.5949999999999989 24\n",
      "0.45000000000001705 19\n",
      "0.05000000000001137 14\n",
      "0.09999999999999432 25\n",
      "0.20000000000000284 6\n",
      "1.7999999999999972 32\n",
      "0.33000000000000185 78\n",
      "0.764999999999997 83\n",
      "0.4649999999999963 83\n",
      "0.529999999999994 72\n",
      "0.7850000000000037 54\n",
      "0.8000000000000114 77\n",
      "14.299999999999997 12\n",
      "0.6950000000000003 45\n",
      "1.065000000000012 44\n",
      "1.009999999999991 35\n",
      "1.200000000000017 29\n",
      "0.9749999999999943 45\n",
      "0.5449999999999875 24\n",
      "0.5749999999999886 18\n",
      "0.07500000000001705 13\n",
      "0.3400000000000034 26\n",
      "0.924999999999983 4\n",
      "4.3799999999999955 31\n",
      "0.3200000000000003 78\n",
      "1.0850000000000009 82\n",
      "0.0899999999999963 83\n",
      "0.35999999999999943 77\n",
      "0.5500000000000043 62\n",
      "0.41500000000000625 78\n",
      "0.5450000000000017 25\n",
      "0.5750000000000028 46\n",
      "0.5349999999999966 45\n",
      "0.4300000000000068 41\n",
      "0.5 41\n",
      "0.49499999999999034 46\n",
      "0.3199999999999932 29\n",
      "0.18499999999998806 20\n",
      "3.664999999999992 13\n",
      "0.7600000000000051 30\n",
      "1.0150000000000006 7\n",
      "0.3300000000000125 36\n",
      "0.08000000000000007 79\n",
      "0.19000000000000128 84\n",
      "0.0400000000000027 84\n",
      "0.27000000000001023 80\n",
      "0.23999999999999488 67\n",
      "0.3100000000000023 79\n",
      "0.7299999999999969 23\n",
      "0.045000000000001705 44\n",
      "0.2950000000000017 43\n",
      "0.025000000000005684 40\n",
      "0.08500000000000796 37\n",
      "0.10500000000000398 44\n",
      "0.2400000000000091 27\n",
      "0.024999999999991473 18\n",
      "1.0499999999999972 14\n",
      "1.450000000000017 31\n",
      "2.3799999999999955 6\n",
      "1.355000000000004 33\n",
      "0.004999999999999977 79\n",
      "0.08000000000000185 89\n",
      "0.25499999999999545 90\n",
      "0.19499999999999318 86\n",
      "0.060000000000002274 73\n",
      "0.7350000000000065 79\n",
      "0.27000000000001023 25\n",
      "0.20000000000000284 44\n",
      "0.4450000000000003 43\n",
      "0.11499999999999488 41\n",
      "0.060000000000002274 40\n",
      "0.45999999999999375 44\n",
      "0.5849999999999937 27\n",
      "0.3500000000000085 18\n",
      "1.0550000000000068 14\n",
      "1.490000000000009 31\n",
      "0.19499999999999318 6\n",
      "0.7400000000000091 33\n",
      "3.045000000000016 1\n",
      "0.615000000000002 90\n",
      "0.7299999999999969 90\n",
      "0.8050000000000068 83\n",
      "1.384999999999998 71\n",
      "0.46000000000000796 73\n",
      "1.5350000000000037 39\n",
      "0.6300000000000026 48\n",
      "0.2849999999999966 48\n",
      "0.924999999999983 46\n",
      "3.1550000000000153 48\n",
      "0.835000000000008 48\n",
      "0.9299999999999926 37\n",
      "0.14000000000001478 22\n",
      "1.704999999999984 16\n",
      "0.18000000000000682 35\n",
      "0.9449999999999932 19\n",
      "1.0500000000000114 35\n",
      "28.0 7\n",
      "0.5599999999999987 93\n",
      "0.8699999999999974 94\n",
      "0.17499999999999716 91\n",
      "0.40500000000000114 82\n",
      "0.32500000000000284 84\n",
      "0.3299999999999983 37\n",
      "0.6750000000000043 47\n",
      "0.6950000000000003 47\n",
      "0.1150000000000091 45\n",
      "0.2950000000000017 46\n",
      "0.35999999999999943 47\n",
      "0.0799999999999983 33\n",
      "1.740000000000009 23\n",
      "1.8049999999999926 16\n",
      "0.12499999999998579 38\n",
      "0.3999999999999915 13\n",
      "1.8499999999999943 37\n",
      "3.115000000000009 11\n",
      "0.030000000000001137 93\n",
      "0.33500000000000085 93\n",
      "0.21000000000000796 90\n",
      "0.7449999999999974 81\n",
      "0.6950000000000003 86\n",
      "0.595000000000006 40\n",
      "0.39000000000000057 47\n",
      "0.605000000000004 47\n",
      "0.46999999999999886 46\n",
      "0.5300000000000011 48\n",
      "0.21000000000000796 47\n",
      "1.0450000000000017 35\n",
      "0.700000000000017 23\n",
      "0.29999999999999716 16\n",
      "0.020000000000010232 36\n",
      "0.5499999999999972 14\n",
      "1.0 37\n",
      "1.5499999999999972 10\n",
      "0.07500000000000107 91\n",
      "0.18500000000000227 91\n",
      "0.14000000000000057 89\n",
      "0.16499999999999915 82\n",
      "0.6499999999999986 85\n",
      "0.1700000000000017 30\n",
      "0.43499999999999517 45\n",
      "0.9199999999999946 45\n",
      "0.9650000000000034 43\n",
      "0.6750000000000043 41\n",
      "0.6199999999999974 46\n",
      "0.8499999999999943 31\n",
      "0.6400000000000148 19\n",
      "0.40500000000000114 16\n",
      "0.39000000000000057 35\n",
      "0.12999999999999545 7\n",
      "0.9350000000000023 34\n",
      "0.8299999999999983 10\n",
      "0.22000000000000008 84\n",
      "0.0 122\n",
      "0.0 124\n",
      "0.0 111\n",
      "0.0 84\n",
      "0.0 2\n",
      "0.0 0\n",
      "0.8399999999999963 42\n",
      "0.6900000000000048 42\n",
      "0.7000000000000028 42\n",
      "0.40500000000000114 38\n",
      "0.010000000000005116 45\n",
      "3.844999999999999 35\n",
      "0.0 36\n",
      "0.0 44\n",
      "0.25 36\n",
      "0.0 25\n",
      "3.394999999999982 38\n",
      "2.299999999999997 10\n",
      "0.259999999999998 92\n",
      "0.4299999999999997 92\n",
      "0.060000000000002274 85\n",
      "0.24499999999999744 92\n",
      "0.030000000000001137 48\n",
      "1.5850000000000009 5\n",
      "0.43499999999999517 46\n",
      "0.1700000000000017 46\n",
      "0.4000000000000057 49\n",
      "0.42499999999999716 46\n",
      "0.30000000000000426 46\n",
      "0.4750000000000085 42\n",
      "0.710000000000008 20\n",
      "3.3100000000000023 17\n",
      "0.5350000000000108 36\n",
      "6.099999999999994 18\n",
      "0.1700000000000017 39\n",
      "2.6999999999999886 13\n"
     ]
    }
   ],
   "source": [
    "def find_forward(x):\n",
    "    \n",
    "    d = (x.mid_price_x - x.mid_price_y).abs()\n",
    "    \n",
    "    m = d.min()\n",
    "    i = d.argmin()\n",
    "    \n",
    "    return x.strike_price.values[i] + np.exp(x.rate.values[i] * x.days_to_expiry.values[i]) * m\n",
    "    \n",
    "forward = tmp.groupby([\"date_current\", \"expiration_date\"]).apply(lambda x: find_forward(x)).reset_index()"
   ]
  },
  {
   "cell_type": "code",
   "execution_count": null,
   "metadata": {},
   "outputs": [],
   "source": []
  },
  {
   "cell_type": "code",
   "execution_count": null,
   "metadata": {},
   "outputs": [],
   "source": []
  }
 ],
 "metadata": {
  "kernelspec": {
   "display_name": "Python 3",
   "language": "python",
   "name": "python3"
  },
  "language_info": {
   "codemirror_mode": {
    "name": "ipython",
    "version": 3
   },
   "file_extension": ".py",
   "mimetype": "text/x-python",
   "name": "python",
   "nbconvert_exporter": "python",
   "pygments_lexer": "ipython3",
   "version": "3.7.6"
  }
 },
 "nbformat": 4,
 "nbformat_minor": 4
}
